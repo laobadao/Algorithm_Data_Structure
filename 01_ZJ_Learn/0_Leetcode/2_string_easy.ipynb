{
 "cells": [
  {
   "cell_type": "markdown",
   "metadata": {},
   "source": [
    "# Algorithm & Data structure| LeetCode_ String 系列\n",
    "\n",
    "由于对数据结构和算法掌握的不熟练，目前是小白入门阶段，痛下决心，要好好补一补。从大神大牛的算法学习，逐渐自己加强自身技能，若有理解错误，还望批评指教。---ZJ\n",
    "\n",
    "[LeetCode](https://leetcode-cn.com/problemset/all/) | [String 系列](https://leetcode-cn.com/explore/interview/card/top-interview-questions-easy/5/strings/)| [Leetbook](https://hk029.gitbooks.io/leetbook/content/topic_include.html)| [JackCui](https://blog.csdn.net/c406495762/article/details/79247243)|[LeetCode 探索](https://leetcode-cn.com/explore/)\n",
    "\n",
    "--- \n",
    "\n",
    "# 344. 反转字符串（Easy）\n",
    "\n",
    "## 题目描述\n",
    "\n",
    "请编写一个函数，其功能是将输入的字符串反转过来。\n",
    "\n",
    "**示例：**\n",
    "\n",
    "输入：s = \"hello\"\n",
    "返回：\"olleh\"\n",
    "\n"
   ]
  },
  {
   "cell_type": "code",
   "execution_count": 45,
   "metadata": {},
   "outputs": [],
   "source": [
    "class Solution(object):\n",
    "    def reverseString(self, s):\n",
    "        \"\"\"\n",
    "        :type s: str\n",
    "        :rtype: str\n",
    "        \"\"\"\n",
    "        # -1 步数，倒着的        \n",
    "        return s[::-1]"
   ]
  },
  {
   "cell_type": "code",
   "execution_count": 46,
   "metadata": {},
   "outputs": [
    {
     "name": "stdout",
     "output_type": "stream",
     "text": [
      "olleH\n"
     ]
    }
   ],
   "source": [
    "s = Solution()\n",
    "s1 = 'Hello'\n",
    "print(s.reverseString(s1))"
   ]
  },
  {
   "cell_type": "markdown",
   "metadata": {},
   "source": [
    "# 颠倒整数 (Easy)\n",
    "\n",
    "## 题目描述\n",
    "\n",
    "给定一个 32 位有符号整数，将整数中的数字进行反转。\n",
    "\n",
    "**示例 1:**\n",
    "```\n",
    "输入: 123\n",
    "输出: 321\n",
    "```\n",
    "**示例 2:**\n",
    "```\n",
    "输入: -123\n",
    "输出: -321\n",
    "```\n",
    "**示例 3:**\n",
    "```\n",
    "输入: 120\n",
    "输出: 21\n",
    "```\n",
    "**注意:**\n",
    "\n",
    "假设我们的环境只能存储 32 位有符号整数，其数值范围是 $[−2^{31},  2^{31} − 1]$。根据这个假设，如果反转后的整数溢出，则返回 0。\n",
    "\n",
    "**补：**\n",
    "\n",
    "有符号位，符号占一位： 1 表示负数，0 代表正数\n",
    "\n",
    "最大 如 0 1111.......11111 (0 代表正 ，后面 是 31 位 1 ，$2^{30}+2^{29}+.....+2^{1}+2^{0}=2^{31} − 1$ )\n",
    "\n",
    "而无符号数取值范围是 $[0,2^{32}-1]$\n",
    "\n",
    "思路：\n",
    "\n",
    "1. 考虑边界值 $[−2^{31},  2^{31} − 1]$\n"
   ]
  },
  {
   "cell_type": "code",
   "execution_count": null,
   "metadata": {},
   "outputs": [],
   "source": [
    "class Solution:\n",
    "    # @param n, an integer\n",
    "    # @return an integer\n",
    "    def reverseBits(self, n):\n",
    "        y=int(str(x)[::-1])if x>=0 else int('-'+str(abs(x))[::-1]) \n",
    "        # (1<<31)-1  代表最大值 2 的 31 次方 -1\n",
    "        return y if y<(1<<31)-1 and y>-(1<<31)else 0  "
   ]
  },
  {
   "cell_type": "code",
   "execution_count": 47,
   "metadata": {},
   "outputs": [],
   "source": [
    "class Solution(object):\n",
    "    def reverse(self, x):\n",
    "        \"\"\"\n",
    "        :type x: int\n",
    "        :rtype: int\n",
    "        \"\"\"\n",
    "        x = str(x)\n",
    "        x = x[::-1] if x[0] != '-' else x[0] + x[1:][::-1]\n",
    "        x = int(x)\n",
    "        if not (-2 ** 31) < x < (2 ** 31 - 1):\n",
    "            return 0\n",
    "        return x"
   ]
  },
  {
   "cell_type": "code",
   "execution_count": null,
   "metadata": {},
   "outputs": [],
   "source": [
    "class Solution(object):\n",
    "    def reverse(self, x):\n",
    "        \"\"\"\n",
    "        :type x: int\n",
    "        :rtype: int\n",
    "        \"\"\"\n",
    "        res = 0\n",
    "        if x<0:\n",
    "            n = -1*x\n",
    "        else:\n",
    "            n=x\n",
    "        while(n):\n",
    "            res = res*10 + n%10\n",
    "            n /= 10     \n",
    "        if res>(2**31)-1 or res<-(2**31):\n",
    "            return 0\n",
    "        if x<0:\n",
    "            return -1*res\n",
    "        else:\n",
    "            return res"
   ]
  },
  {
   "cell_type": "code",
   "execution_count": null,
   "metadata": {},
   "outputs": [],
   "source": [
    "class Solution(object):\n",
    "    def reverse(self, x):\n",
    "        \"\"\"\n",
    "        :type x: int\n",
    "        :rtype: int\n",
    "        \"\"\"\n",
    "        sum = 0\n",
    "        if x < 0 :\n",
    "            y = -x\n",
    "        else :\n",
    "            y = x        \n",
    "        while (y>0):\n",
    "            sum = sum*10 + y%10\n",
    "            y = y/10\n",
    "\n",
    "        if sum > (2**31-1) or -sum < -2**31:\n",
    "            return 0\n",
    "        else:\n",
    "            if x < 0 :\n",
    "                return -sum\n",
    "            else:\n",
    "                return sum"
   ]
  },
  {
   "cell_type": "markdown",
   "metadata": {},
   "source": [
    "# 190. 颠倒二进制位 (Easy)\n",
    "\n",
    "## 题目描述\n",
    "\n",
    "颠倒给定的 32 位无符号整数的二进制位。\n",
    "\n",
    "**示例:**\n",
    "```\n",
    "输入: 43261596\n",
    "输出: 964176192\n",
    "解释: 43261596 的二进制表示形式为 00000010100101000001111010011100 ，\n",
    "     返回 964176192，其二进制表示形式为 00111001011110000010100101000000 。\n",
    "```\n",
    "**进阶:**\n",
    "\n",
    "如果多次调用这个函数，你将如何优化你的算法？\n",
    "\n",
    "**思路：**\n",
    "\n",
    "1. 首先看一下二进制与整数之间的相互转化\n",
    "    - 整数转二进制：\n",
    "    ```\n",
    "    1、采用 %2 的方式计算  \n",
    "    2、采用 python 自带了方法 bin().  \n",
    "    比如 bin(10) 回返回字符串 '0b1010' ，只留下‘0’，‘1’序列需要把‘0b’去掉.  \n",
    "    bin(number).replace('0b','') 或 bin(number)[2:]  \n",
    "    >>> bin(10)      # 为了下边表示方便 放入t中  \n",
    "    '0b1010'  \n",
    "    ```\n",
    "    - 二进制转整数：\n",
    "    ```\n",
    "    >>> int(t[2:],2)  \n",
    "    10  \n",
    "    ```"
   ]
  },
  {
   "cell_type": "code",
   "execution_count": 36,
   "metadata": {},
   "outputs": [],
   "source": [
    "class Solution:\n",
    "    # @param n, an integer\n",
    "    # @return an integer\n",
    "    def reverseBits(self, n):\n",
    "        \n",
    "        # 先将 n 转换为 2 进制\n",
    "        b = bin(n)\n",
    "        print(b)\n",
    "        \n",
    "        # 不到32位,变成32位(加上前面默认的 0b 共 34 位)\n",
    "        \n",
    "        if len(b) < 34:\n",
    "            # 前面默认的 ‘ob’ 中间加上不足 32 少了的 0 位，\n",
    "            # 最后再把原二进制除去 前两位后面的加上\n",
    "            b = '0b' + '0'* (34 - len(b)) + b[2:]\n",
    "        \n",
    "        print(b)\n",
    "        \n",
    "        reversed_b = '0b' + b[2:][::-1]\n",
    "        \n",
    "        # 最后再由二进制转换为 十进制\n",
    "        return int(reversed_b, 2)\n",
    "            \n",
    "        "
   ]
  },
  {
   "cell_type": "code",
   "execution_count": 37,
   "metadata": {},
   "outputs": [
    {
     "name": "stdout",
     "output_type": "stream",
     "text": [
      "0b10100101000001111010011100\n",
      "0b00000010100101000001111010011100\n",
      "964176192\n",
      "0b1100000\n",
      "0b00000000000000000000000001100000\n",
      "100663296\n"
     ]
    }
   ],
   "source": [
    "print(Solution().reverseBits(43261596))\n",
    "\n",
    "print(Solution().reverseBits(96))"
   ]
  },
  {
   "cell_type": "code",
   "execution_count": 43,
   "metadata": {},
   "outputs": [],
   "source": [
    "class Solution1(object):\n",
    "    # @param n, an integer\n",
    "    # @return an integer\n",
    "    def reverseBits(self, n):\n",
    "        m = 0\n",
    "        for _ in range(32):\n",
    "            #  左移一位\n",
    "            m <<= 1\n",
    "            print('m <<= 1:',m, end=' ')\n",
    "            # 先让 n 和 1 进行 & 与 的单目运算，然后再进行 | 或运算\n",
    "            m |= n & 1\n",
    "            print('m |= n & 1:',m, end=' ')\n",
    "            # 右移一位\n",
    "            n >>= 1\n",
    "            print('n >>= 1:',n,end='\\n')\n",
    "        return m"
   ]
  },
  {
   "cell_type": "code",
   "execution_count": 44,
   "metadata": {},
   "outputs": [
    {
     "name": "stdout",
     "output_type": "stream",
     "text": [
      "0b1100000\n",
      "m <<= 1: 0 m |= n & 1: 0 n >>= 1: 48\n",
      "m <<= 1: 0 m |= n & 1: 0 n >>= 1: 24\n",
      "m <<= 1: 0 m |= n & 1: 0 n >>= 1: 12\n",
      "m <<= 1: 0 m |= n & 1: 0 n >>= 1: 6\n",
      "m <<= 1: 0 m |= n & 1: 0 n >>= 1: 3\n",
      "m <<= 1: 0 m |= n & 1: 1 n >>= 1: 1\n",
      "m <<= 1: 2 m |= n & 1: 3 n >>= 1: 0\n",
      "m <<= 1: 6 m |= n & 1: 6 n >>= 1: 0\n",
      "m <<= 1: 12 m |= n & 1: 12 n >>= 1: 0\n",
      "m <<= 1: 24 m |= n & 1: 24 n >>= 1: 0\n",
      "m <<= 1: 48 m |= n & 1: 48 n >>= 1: 0\n",
      "m <<= 1: 96 m |= n & 1: 96 n >>= 1: 0\n",
      "m <<= 1: 192 m |= n & 1: 192 n >>= 1: 0\n",
      "m <<= 1: 384 m |= n & 1: 384 n >>= 1: 0\n",
      "m <<= 1: 768 m |= n & 1: 768 n >>= 1: 0\n",
      "m <<= 1: 1536 m |= n & 1: 1536 n >>= 1: 0\n",
      "m <<= 1: 3072 m |= n & 1: 3072 n >>= 1: 0\n",
      "m <<= 1: 6144 m |= n & 1: 6144 n >>= 1: 0\n",
      "m <<= 1: 12288 m |= n & 1: 12288 n >>= 1: 0\n",
      "m <<= 1: 24576 m |= n & 1: 24576 n >>= 1: 0\n",
      "m <<= 1: 49152 m |= n & 1: 49152 n >>= 1: 0\n",
      "m <<= 1: 98304 m |= n & 1: 98304 n >>= 1: 0\n",
      "m <<= 1: 196608 m |= n & 1: 196608 n >>= 1: 0\n",
      "m <<= 1: 393216 m |= n & 1: 393216 n >>= 1: 0\n",
      "m <<= 1: 786432 m |= n & 1: 786432 n >>= 1: 0\n",
      "m <<= 1: 1572864 m |= n & 1: 1572864 n >>= 1: 0\n",
      "m <<= 1: 3145728 m |= n & 1: 3145728 n >>= 1: 0\n",
      "m <<= 1: 6291456 m |= n & 1: 6291456 n >>= 1: 0\n",
      "m <<= 1: 12582912 m |= n & 1: 12582912 n >>= 1: 0\n",
      "m <<= 1: 25165824 m |= n & 1: 25165824 n >>= 1: 0\n",
      "m <<= 1: 50331648 m |= n & 1: 50331648 n >>= 1: 0\n",
      "m <<= 1: 100663296 m |= n & 1: 100663296 n >>= 1: 0\n",
      "100663296\n"
     ]
    }
   ],
   "source": [
    "print(bin(96))\n",
    "print(Solution1().reverseBits(96))"
   ]
  },
  {
   "cell_type": "code",
   "execution_count": 28,
   "metadata": {},
   "outputs": [
    {
     "name": "stdout",
     "output_type": "stream",
     "text": [
      "0 1 2 3 4 5 6 7 8 9 10 11 12 13 14 15 16 17 18 19 20 21 22 23 24 25 26 27 28 29 30 31 \n",
      "\n",
      "0\n",
      "1\n"
     ]
    }
   ],
   "source": [
    "# 在Python 3 中,range() 与 xrange()合并为 range( )\n",
    "for i in range(32):\n",
    "    print(i, end=' ')\n",
    "\n",
    "    \n",
    "print('\\n')\n",
    "m = 0\n",
    "m <<= 1\n",
    "print(m)\n"
   ]
  },
  {
   "cell_type": "markdown",
   "metadata": {},
   "source": [
    "左移运算符 `<<`右移运算符 `>>`,按位与 `&`，按位或 `|`，按位翻转 `～`"
   ]
  },
  {
   "cell_type": "code",
   "execution_count": null,
   "metadata": {},
   "outputs": [],
   "source": [
    "class Solution(object):\n",
    "    # @param n, an integer\n",
    "    # @return an integer\n",
    "    def reverseBits(self, n):\n",
    "        n = (n >> 16) | (n << 16)\n",
    "        n = ((n & 0xff00ff00) >> 8) | ((n & 0x00ff00ff) << 8)\n",
    "        n = ((n & 0xf0f0f0f0) >> 4) | ((n & 0x0f0f0f0f) << 4)\n",
    "        n = ((n & 0xcccccccc) >> 2) | ((n & 0x33333333) << 2)\n",
    "        n = ((n & 0xaaaaaaaa) >> 1) | ((n & 0x55555555) << 1)\n",
    "        return n"
   ]
  },
  {
   "cell_type": "code",
   "execution_count": null,
   "metadata": {},
   "outputs": [],
   "source": [
    "class Solution:\n",
    "    # @param n, an integer\n",
    "    # @return an integer\n",
    "    def reverseBits(self, n):\n",
    "        l = 31\n",
    "        ans = 0\n",
    "        while l >= 0:\n",
    "            if (n % 2) == 1:\n",
    "                ans +=  2 ** l \n",
    "            n >>= 1\n",
    "            l -= 1\n",
    "        return ans"
   ]
  }
 ],
 "metadata": {
  "kernelspec": {
   "display_name": "Python 3",
   "language": "python",
   "name": "python3"
  },
  "language_info": {
   "codemirror_mode": {
    "name": "ipython",
    "version": 3
   },
   "file_extension": ".py",
   "mimetype": "text/x-python",
   "name": "python",
   "nbconvert_exporter": "python",
   "pygments_lexer": "ipython3",
   "version": "3.6.2"
  }
 },
 "nbformat": 4,
 "nbformat_minor": 2
}
