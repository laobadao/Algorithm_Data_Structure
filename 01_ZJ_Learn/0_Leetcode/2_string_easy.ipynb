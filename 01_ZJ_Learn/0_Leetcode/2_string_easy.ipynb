{
 "cells": [
  {
   "cell_type": "markdown",
   "metadata": {},
   "source": [
    "# Algorithm & Data structure| LeetCode_ String 系列\n",
    "\n",
    "由于对数据结构和算法掌握的不熟练，目前是小白入门阶段，痛下决心，要好好补一补。从大神大牛的算法学习，逐渐自己加强自身技能，若有理解错误，还望批评指教。---ZJ\n",
    "\n",
    "[LeetCode](https://leetcode-cn.com/problemset/all/) | [String 系列](https://leetcode-cn.com/explore/interview/card/top-interview-questions-easy/5/strings/)| [Leetbook](https://hk029.gitbooks.io/leetbook/content/topic_include.html)| [JackCui](https://blog.csdn.net/c406495762/article/details/79247243)|[LeetCode 探索](https://leetcode-cn.com/explore/)\n",
    "\n",
    "--- \n",
    "\n",
    "# 344. 反转字符串（Easy）\n",
    "\n",
    "## 题目描述\n",
    "\n",
    "请编写一个函数，其功能是将输入的字符串反转过来。\n",
    "\n",
    "**示例：**\n",
    "\n",
    "输入：s = \"hello\"\n",
    "返回：\"olleh\"\n",
    "\n"
   ]
  },
  {
   "cell_type": "code",
   "execution_count": 45,
   "metadata": {},
   "outputs": [],
   "source": [
    "class Solution(object):\n",
    "    def reverseString(self, s):\n",
    "        \"\"\"\n",
    "        :type s: str\n",
    "        :rtype: str\n",
    "        \"\"\"\n",
    "        # -1 步数，倒着的        \n",
    "        return s[::-1]"
   ]
  },
  {
   "cell_type": "code",
   "execution_count": 46,
   "metadata": {},
   "outputs": [
    {
     "name": "stdout",
     "output_type": "stream",
     "text": [
      "olleH\n"
     ]
    }
   ],
   "source": [
    "s = Solution()\n",
    "s1 = 'Hello'\n",
    "print(s.reverseString(s1))"
   ]
  },
  {
   "cell_type": "markdown",
   "metadata": {},
   "source": [
    "# 颠倒整数 (Easy)\n",
    "\n",
    "## 题目描述\n",
    "\n",
    "给定一个 32 位有符号整数，将整数中的数字进行反转。\n",
    "\n",
    "**示例 1:**\n",
    "```\n",
    "输入: 123\n",
    "输出: 321\n",
    "```\n",
    "**示例 2:**\n",
    "```\n",
    "输入: -123\n",
    "输出: -321\n",
    "```\n",
    "**示例 3:**\n",
    "```\n",
    "输入: 120\n",
    "输出: 21\n",
    "```\n",
    "**注意:**\n",
    "\n",
    "假设我们的环境只能存储 32 位有符号整数，其数值范围是 $[−2^{31},  2^{31} − 1]$。根据这个假设，如果反转后的整数溢出，则返回 0。\n",
    "\n",
    "**补：**\n",
    "\n",
    "有符号位，符号占一位： 1 表示负数，0 代表正数\n",
    "\n",
    "最大 如 0 1111.......11111 (0 代表正 ，后面 是 31 位 1 ，$2^{30}+2^{29}+.....+2^{1}+2^{0}=2^{31} − 1$ )\n",
    "\n",
    "而无符号数取值范围是 $[0,2^{32}-1]$\n",
    "\n",
    "思路：\n",
    "\n",
    "1. 考虑边界值 $[−2^{31},  2^{31} − 1]$\n"
   ]
  },
  {
   "cell_type": "code",
   "execution_count": 18,
   "metadata": {},
   "outputs": [],
   "source": [
    "class Solution(object):\n",
    "    def reverse(self, x):\n",
    "        \"\"\"\n",
    "        :type x: int\n",
    "        :rtype: int\n",
    "        \"\"\"\n",
    "        # 如果 x>= 0 直接转化为 string 然后翻转，再变为 int\n",
    "        # f否则为复数的话前面加 负号，\n",
    "        # 然后 int 类型 取绝对值后转为 string 取倒数  \n",
    "        x=int(str(x)[::-1])if x>=0 else int('-'+str(abs(x))[::-1]) \n",
    "        # (1<<31)-1  代表最大值 2 的 31 次方 -1\n",
    "        return x if x<(1<<31)-1 and x>-(1<<31)else 0  "
   ]
  },
  {
   "cell_type": "code",
   "execution_count": 19,
   "metadata": {},
   "outputs": [
    {
     "name": "stdout",
     "output_type": "stream",
     "text": [
      "321\n"
     ]
    }
   ],
   "source": [
    "s = Solution()\n",
    "print(s.reverse(123))"
   ]
  },
  {
   "cell_type": "code",
   "execution_count": 20,
   "metadata": {},
   "outputs": [],
   "source": [
    "class Solution(object):\n",
    "    def reverse(self, x):\n",
    "        \"\"\"\n",
    "        :type x: int\n",
    "        :rtype: int\n",
    "        \"\"\"\n",
    "        # 先将 整数转为 str type          \n",
    "        x = str(x)\n",
    "        # 如果 x[0] 不是 - 则代表是正数，\n",
    "        # 那么可以直接使用[::-1] 进行倒序翻转\n",
    "        # 否则 先将 x[0] 符号位 取出来 然后后面的 x[1:][::-1] 在进行倒序翻转\n",
    "        x = x[::-1] if x[0] != '-' else x[0] + x[1:][::-1]\n",
    "        # 转换成 int 类型\n",
    "        x = int(x)\n",
    "        # 判断边界值 如果 在边界值外 则返回 0 \n",
    "        if not (-2 ** 31) < x < (2 ** 31 - 1):\n",
    "            return 0\n",
    "        return x"
   ]
  },
  {
   "cell_type": "code",
   "execution_count": 21,
   "metadata": {},
   "outputs": [
    {
     "name": "stdout",
     "output_type": "stream",
     "text": [
      "321\n"
     ]
    }
   ],
   "source": [
    "s = Solution()\n",
    "print(s.reverse(123))"
   ]
  },
  {
   "cell_type": "code",
   "execution_count": 38,
   "metadata": {},
   "outputs": [],
   "source": [
    "class Solution(object):\n",
    "    def reverse(self, x):\n",
    "        \"\"\"\n",
    "        :type x: int\n",
    "        :rtype: int\n",
    "        \"\"\"\n",
    "        res = 0\n",
    "        if x<0:\n",
    "            n = -1*x\n",
    "        else:\n",
    "            n=x\n",
    "        print(n)\n",
    "        while n:\n",
    "            res = res*10 + n%10\n",
    "            n /= 10     \n",
    "        if res>(2**31)-1 or res<-(2**31):\n",
    "            print(\"-\")\n",
    "            return 0\n",
    "        if x<0:\n",
    "            print( -1*res)\n",
    "            return -1*res\n",
    "        else:\n",
    "            print(res)\n",
    "            return res\n",
    "        "
   ]
  },
  {
   "cell_type": "code",
   "execution_count": null,
   "metadata": {},
   "outputs": [],
   "source": []
  },
  {
   "cell_type": "code",
   "execution_count": 29,
   "metadata": {},
   "outputs": [],
   "source": [
    "class Solution(object):\n",
    "    def reverse(self, x):\n",
    "        \"\"\"\n",
    "        :type x: int\n",
    "        :rtype: int\n",
    "        \"\"\"\n",
    "        sum1 = 0\n",
    "        if x < 0 :\n",
    "            y = -x\n",
    "        else :\n",
    "            y = x        \n",
    "        while (y>0):\n",
    "            sum1 = sum1*10 + y%10\n",
    "            y = y/10\n",
    "\n",
    "        if sum1 > (2**31-1) or -sum1 < -2**31:\n",
    "            return 0\n",
    "        else:\n",
    "            if x < 0 :\n",
    "                return -sum1\n",
    "            else:\n",
    "                return sum1\n",
    "            \n"
   ]
  },
  {
   "cell_type": "code",
   "execution_count": null,
   "metadata": {},
   "outputs": [],
   "source": []
  },
  {
   "cell_type": "markdown",
   "metadata": {},
   "source": [
    "# 190. 颠倒二进制位 (Easy)\n",
    "\n",
    "## 题目描述\n",
    "\n",
    "颠倒给定的 32 位无符号整数的二进制位。\n",
    "\n",
    "**示例:**\n",
    "```\n",
    "输入: 43261596\n",
    "输出: 964176192\n",
    "解释: 43261596 的二进制表示形式为 00000010100101000001111010011100 ，\n",
    "     返回 964176192，其二进制表示形式为 00111001011110000010100101000000 。\n",
    "```\n",
    "**进阶:**\n",
    "\n",
    "如果多次调用这个函数，你将如何优化你的算法？\n",
    "\n",
    "**思路：**\n",
    "\n",
    "1. 首先看一下二进制与整数之间的相互转化\n",
    "    - 整数转二进制：\n",
    "    ```\n",
    "    1、采用 %2 的方式计算  \n",
    "    2、采用 python 自带了方法 bin().  \n",
    "    比如 bin(10) 回返回字符串 '0b1010' ，只留下‘0’，‘1’序列需要把‘0b’去掉.  \n",
    "    bin(number).replace('0b','') 或 bin(number)[2:]  \n",
    "    >>> bin(10)      # 为了下边表示方便 放入t中  \n",
    "    '0b1010'  \n",
    "    ```\n",
    "    - 二进制转整数：\n",
    "    ```\n",
    "    >>> int(t[2:],2)  \n",
    "    10  \n",
    "    ```"
   ]
  },
  {
   "cell_type": "code",
   "execution_count": 36,
   "metadata": {},
   "outputs": [],
   "source": [
    "class Solution:\n",
    "    # @param n, an integer\n",
    "    # @return an integer\n",
    "    def reverseBits(self, n):\n",
    "        \n",
    "        # 先将 n 转换为 2 进制\n",
    "        b = bin(n)\n",
    "        print(b)\n",
    "        \n",
    "        # 不到32位,变成32位(加上前面默认的 0b 共 34 位)\n",
    "        \n",
    "        if len(b) < 34:\n",
    "            # 前面默认的 ‘ob’ 中间加上不足 32 少了的 0 位，\n",
    "            # 最后再把原二进制除去 前两位后面的加上\n",
    "            b = '0b' + '0'* (34 - len(b)) + b[2:]\n",
    "        \n",
    "        print(b)\n",
    "        \n",
    "        reversed_b = '0b' + b[2:][::-1]\n",
    "        \n",
    "        # 最后再由二进制转换为 十进制\n",
    "        return int(reversed_b, 2)\n",
    "            \n",
    "        "
   ]
  },
  {
   "cell_type": "code",
   "execution_count": 37,
   "metadata": {},
   "outputs": [
    {
     "name": "stdout",
     "output_type": "stream",
     "text": [
      "0b10100101000001111010011100\n",
      "0b00000010100101000001111010011100\n",
      "964176192\n",
      "0b1100000\n",
      "0b00000000000000000000000001100000\n",
      "100663296\n"
     ]
    }
   ],
   "source": [
    "print(Solution().reverseBits(43261596))\n",
    "\n",
    "print(Solution().reverseBits(96))"
   ]
  },
  {
   "cell_type": "code",
   "execution_count": 43,
   "metadata": {},
   "outputs": [],
   "source": [
    "class Solution1(object):\n",
    "    # @param n, an integer\n",
    "    # @return an integer\n",
    "    def reverseBits(self, n):\n",
    "        m = 0\n",
    "        for _ in range(32):\n",
    "            #  左移一位\n",
    "            m <<= 1\n",
    "            print('m <<= 1:',m, end=' ')\n",
    "            # 先让 n 和 1 进行 & 与 的单目运算，然后再进行 | 或运算\n",
    "            m |= n & 1\n",
    "            print('m |= n & 1:',m, end=' ')\n",
    "            # 右移一位\n",
    "            n >>= 1\n",
    "            print('n >>= 1:',n,end='\\n')\n",
    "        return m"
   ]
  },
  {
   "cell_type": "code",
   "execution_count": 44,
   "metadata": {},
   "outputs": [
    {
     "name": "stdout",
     "output_type": "stream",
     "text": [
      "0b1100000\n",
      "m <<= 1: 0 m |= n & 1: 0 n >>= 1: 48\n",
      "m <<= 1: 0 m |= n & 1: 0 n >>= 1: 24\n",
      "m <<= 1: 0 m |= n & 1: 0 n >>= 1: 12\n",
      "m <<= 1: 0 m |= n & 1: 0 n >>= 1: 6\n",
      "m <<= 1: 0 m |= n & 1: 0 n >>= 1: 3\n",
      "m <<= 1: 0 m |= n & 1: 1 n >>= 1: 1\n",
      "m <<= 1: 2 m |= n & 1: 3 n >>= 1: 0\n",
      "m <<= 1: 6 m |= n & 1: 6 n >>= 1: 0\n",
      "m <<= 1: 12 m |= n & 1: 12 n >>= 1: 0\n",
      "m <<= 1: 24 m |= n & 1: 24 n >>= 1: 0\n",
      "m <<= 1: 48 m |= n & 1: 48 n >>= 1: 0\n",
      "m <<= 1: 96 m |= n & 1: 96 n >>= 1: 0\n",
      "m <<= 1: 192 m |= n & 1: 192 n >>= 1: 0\n",
      "m <<= 1: 384 m |= n & 1: 384 n >>= 1: 0\n",
      "m <<= 1: 768 m |= n & 1: 768 n >>= 1: 0\n",
      "m <<= 1: 1536 m |= n & 1: 1536 n >>= 1: 0\n",
      "m <<= 1: 3072 m |= n & 1: 3072 n >>= 1: 0\n",
      "m <<= 1: 6144 m |= n & 1: 6144 n >>= 1: 0\n",
      "m <<= 1: 12288 m |= n & 1: 12288 n >>= 1: 0\n",
      "m <<= 1: 24576 m |= n & 1: 24576 n >>= 1: 0\n",
      "m <<= 1: 49152 m |= n & 1: 49152 n >>= 1: 0\n",
      "m <<= 1: 98304 m |= n & 1: 98304 n >>= 1: 0\n",
      "m <<= 1: 196608 m |= n & 1: 196608 n >>= 1: 0\n",
      "m <<= 1: 393216 m |= n & 1: 393216 n >>= 1: 0\n",
      "m <<= 1: 786432 m |= n & 1: 786432 n >>= 1: 0\n",
      "m <<= 1: 1572864 m |= n & 1: 1572864 n >>= 1: 0\n",
      "m <<= 1: 3145728 m |= n & 1: 3145728 n >>= 1: 0\n",
      "m <<= 1: 6291456 m |= n & 1: 6291456 n >>= 1: 0\n",
      "m <<= 1: 12582912 m |= n & 1: 12582912 n >>= 1: 0\n",
      "m <<= 1: 25165824 m |= n & 1: 25165824 n >>= 1: 0\n",
      "m <<= 1: 50331648 m |= n & 1: 50331648 n >>= 1: 0\n",
      "m <<= 1: 100663296 m |= n & 1: 100663296 n >>= 1: 0\n",
      "100663296\n"
     ]
    }
   ],
   "source": [
    "print(bin(96))\n",
    "print(Solution1().reverseBits(96))"
   ]
  },
  {
   "cell_type": "code",
   "execution_count": 28,
   "metadata": {},
   "outputs": [
    {
     "name": "stdout",
     "output_type": "stream",
     "text": [
      "0 1 2 3 4 5 6 7 8 9 10 11 12 13 14 15 16 17 18 19 20 21 22 23 24 25 26 27 28 29 30 31 \n",
      "\n",
      "0\n",
      "1\n"
     ]
    }
   ],
   "source": [
    "# 在Python 3 中,range() 与 xrange()合并为 range( )\n",
    "for i in range(32):\n",
    "    print(i, end=' ')\n",
    "\n",
    "    \n",
    "print('\\n')\n",
    "m = 0\n",
    "m <<= 1\n",
    "print(m)\n"
   ]
  },
  {
   "cell_type": "markdown",
   "metadata": {},
   "source": [
    "左移运算符 `<<`右移运算符 `>>`,按位与 `&`，按位或 `|`，按位翻转 `～`"
   ]
  },
  {
   "cell_type": "code",
   "execution_count": 40,
   "metadata": {},
   "outputs": [],
   "source": [
    "class Solution(object):\n",
    "    # @param n, an integer\n",
    "    # @return an integer\n",
    "    def reverseBits(self, n):\n",
    "        n = (n >> 16) | (n << 16)\n",
    "        n = ((n & 0xff00ff00) >> 8) | ((n & 0x00ff00ff) << 8)\n",
    "        n = ((n & 0xf0f0f0f0) >> 4) | ((n & 0x0f0f0f0f) << 4)\n",
    "        n = ((n & 0xcccccccc) >> 2) | ((n & 0x33333333) << 2)\n",
    "        n = ((n & 0xaaaaaaaa) >> 1) | ((n & 0x55555555) << 1)\n",
    "        return n"
   ]
  },
  {
   "cell_type": "code",
   "execution_count": 41,
   "metadata": {},
   "outputs": [
    {
     "name": "stdout",
     "output_type": "stream",
     "text": [
      "100663296\n"
     ]
    }
   ],
   "source": [
    "print(Solution().reverseBits(96))"
   ]
  },
  {
   "cell_type": "code",
   "execution_count": 42,
   "metadata": {},
   "outputs": [],
   "source": [
    "class Solution:\n",
    "    # @param n, an integer\n",
    "    # @return an integer\n",
    "    def reverseBits(self, n):\n",
    "        l = 31\n",
    "        ans = 0\n",
    "        while l >= 0:\n",
    "            if (n % 2) == 1:\n",
    "                ans +=  2 ** l \n",
    "            n >>= 1\n",
    "            l -= 1\n",
    "        return ans"
   ]
  },
  {
   "cell_type": "code",
   "execution_count": 43,
   "metadata": {},
   "outputs": [
    {
     "name": "stdout",
     "output_type": "stream",
     "text": [
      "100663296\n"
     ]
    }
   ],
   "source": [
    "print(Solution().reverseBits(96))"
   ]
  },
  {
   "cell_type": "markdown",
   "metadata": {},
   "source": [
    "# 387. 字符串中的第一个唯一字符 (Easy)\n",
    "\n",
    "给定一个字符串，找到它的第一个不重复的字符，并返回它的索引。如果不存在，则返回 -1。\n",
    "\n",
    "**案例:**\n",
    "```\n",
    "s = \"leetcode\"\n",
    "返回 0.\n",
    "\n",
    "s = \"loveleetcode\",\n",
    "返回 2.\n",
    "```\n",
    "\n",
    "**注意事项：**您可以假定该字符串只包含小写字母\n",
    "\n",
    "思路：\n",
    "\n",
    "1. 注意是 第一个 （发现之后直接返回，后面的就不用判断了）\n",
    "2. 是唯一字符\n",
    "3. 我的最蠢的方法 用時 736 跑完 104 个测试用例\n",
    "4. 在想想别的，借助些什么别的知识 试试"
   ]
  },
  {
   "cell_type": "code",
   "execution_count": 68,
   "metadata": {},
   "outputs": [],
   "source": [
    "class Solution(object):\n",
    "    def firstUniqChar(self, s):\n",
    "        \"\"\"\n",
    "        :type s: str\n",
    "        :rtype: int\n",
    "        \"\"\"\n",
    "        if s == \"\":\n",
    "            return -1\n",
    "        \n",
    "        n = len(s)\n",
    "        \n",
    "        for i in range(n):\n",
    "#             print('s[i]:',s[i])\n",
    "#             print('s[0:i]:',s[0:i])\n",
    "#             print('s[i+1:]:',s[i+1:])\n",
    "            if i == 0:\n",
    "                if s[i] not in s[i+1:]:\n",
    "                    return i\n",
    "                else:\n",
    "                    if i == n-1:\n",
    "                        return -1                    \n",
    "            else:    \n",
    "                if (s[i] not in s[0:i]) and (s[i] not in s[i+1:]):\n",
    "                    return i\n",
    "                else:\n",
    "                    if i == n-1:\n",
    "                        return -1                        "
   ]
  },
  {
   "cell_type": "code",
   "execution_count": 69,
   "metadata": {},
   "outputs": [
    {
     "name": "stdout",
     "output_type": "stream",
     "text": [
      "0\n",
      "2\n",
      "-1\n",
      "-1\n"
     ]
    }
   ],
   "source": [
    "s1 = \"leetcode\"\n",
    "s2 = \"loveleetcode\"\n",
    "s3 = \"cc\"\n",
    "s4 = \"\"\n",
    "print(Solution().firstUniqChar(s1))\n",
    "print(Solution().firstUniqChar(s2))\n",
    "print(Solution().firstUniqChar(s3))\n",
    "print(Solution().firstUniqChar(s4))"
   ]
  },
  {
   "cell_type": "markdown",
   "metadata": {},
   "source": [
    "总结：\n",
    "1. 上面的算法，最惨的情况是需要遍历所有的字符，如果字符很长那就很耗时了\n",
    "\n",
    "2. 前面有提示说 假定该字符串只包含小写字母，所以 借助 26 个小写字母，来试试\n",
    "\n",
    "忍不住骂自己两句：\n",
    "\n",
    "1. 数学功底不好 2 8 16 10 进制 之间奇妙的关系掌握的不好\n",
    "2. python 内功不好 对于 常用对象的属性 和单目运算符 掌握的不好\n",
    "3. 整个的逻辑思维 数学那种神奇的思考方式 没有搭建起来\n",
    "4. 简直蠢到家，现在的努力都是在弥补 小学 初中 高中 大学的亏欠啊"
   ]
  },
  {
   "cell_type": "code",
   "execution_count": 102,
   "metadata": {},
   "outputs": [],
   "source": [
    "class Solution(object):\n",
    "    def firstUniqChar(self, s):\n",
    "        \"\"\"\n",
    "        :type s: str\n",
    "        :rtype: int\n",
    "        \"\"\"\n",
    "        index = []\n",
    "        letters = \"qwertyuioplkjhgfdsazxcvbnm\"\n",
    "        for l in letters:\n",
    "            if s.count(l) == 1:\n",
    "#                 print(index)\n",
    "                index = index + [s.index(l)]\n",
    "#         index=[s.index(l) for l in letters if s.count(l) == 1]\n",
    "#         print(index)\n",
    "        if len(index) > 0:\n",
    "#             print(index)\n",
    "            return min(index)\n",
    "        else:\n",
    "            return -1\n",
    "                "
   ]
  },
  {
   "cell_type": "code",
   "execution_count": 103,
   "metadata": {},
   "outputs": [
    {
     "name": "stdout",
     "output_type": "stream",
     "text": [
      "1\n",
      "0\n",
      "2\n",
      "-1\n",
      "-1\n"
     ]
    }
   ],
   "source": [
    "s1 = \"leetcode\"\n",
    "s2 = \"loveleetcode\"\n",
    "s3 = \"cc\"\n",
    "s4 = \"\"\n",
    "print(s2.index('o'))\n",
    "print(Solution().firstUniqChar(s1))\n",
    "print(Solution().firstUniqChar(s2))\n",
    "print(Solution().firstUniqChar(s3))\n",
    "print(Solution().firstUniqChar(s4))"
   ]
  },
  {
   "cell_type": "code",
   "execution_count": 104,
   "metadata": {},
   "outputs": [],
   "source": [
    "class Solution(object):\n",
    "    def firstUniqChar(self, s):\n",
    "        \"\"\"\n",
    "        :type s: str\n",
    "        :rtype: int\n",
    "        \"\"\"\n",
    "        letters='abcdefghijklmnopqrstuvwxyz'\n",
    "        index=[s.index(l) for l in letters if s.count(l) == 1]\n",
    "        print(index)\n",
    "        return min(index) if len(index) > 0 else -1"
   ]
  },
  {
   "cell_type": "code",
   "execution_count": 105,
   "metadata": {},
   "outputs": [
    {
     "name": "stdout",
     "output_type": "stream",
     "text": [
      "1\n",
      "[4, 6, 0, 5, 3]\n",
      "0\n",
      "[8, 10, 7, 2]\n",
      "2\n",
      "[]\n",
      "-1\n",
      "[]\n",
      "-1\n"
     ]
    }
   ],
   "source": [
    "s1 = \"leetcode\"\n",
    "s2 = \"loveleetcode\"\n",
    "s3 = \"cc\"\n",
    "s4 = \"\"\n",
    "print(s2.index('o'))\n",
    "print(Solution().firstUniqChar(s1))\n",
    "print(Solution().firstUniqChar(s2))\n",
    "print(Solution().firstUniqChar(s3))\n",
    "print(Solution().firstUniqChar(s4))"
   ]
  },
  {
   "cell_type": "code",
   "execution_count": null,
   "metadata": {},
   "outputs": [],
   "source": [
    "import string \n",
    "\n",
    "class Solution(object):\n",
    "    def firstUniqChar(self, s):\n",
    "        \"\"\"\n",
    "        :type s: str\n",
    "        :rtype: int\n",
    "        \"\"\"\n",
    "        # string.ascii_lowercase \n",
    "        # \n",
    "        return min([s.find(c) for c in string.ascii_lowercase if s.count(c)==1] or [-1])"
   ]
  },
  {
   "cell_type": "code",
   "execution_count": 110,
   "metadata": {},
   "outputs": [
    {
     "name": "stdout",
     "output_type": "stream",
     "text": [
      "abcdefghijklmnopqrstuvwxyz\n",
      "3\n",
      "3\n"
     ]
    }
   ],
   "source": [
    "import string \n",
    "\n",
    "print(string.ascii_lowercase)\n",
    "\n",
    "s = \"ashjdkjlasfhjsdahkj\"\n",
    "print(s.find('j'))\n",
    "print(s.index('j'))"
   ]
  },
  {
   "cell_type": "code",
   "execution_count": null,
   "metadata": {},
   "outputs": [],
   "source": [
    "class Solution(object):\n",
    "    def firstUniqChar(self, s):\n",
    "        \"\"\"\n",
    "        :type s: str\n",
    "        :rtype: int\n",
    "        \"\"\"\n",
    "        reIndexSet = set()\n",
    "        # 先set 下，取出唯一值\n",
    "        sSet = set( s )\n",
    "        # 在根据唯一值循环遍历\n",
    "        for k in sSet:\n",
    "            if s.count(k) == 1:\n",
    "                reIndexSet.add( s.index(k) )\n",
    "\n",
    "        if reIndexSet == set():\n",
    "            reIndexSet.add(-1)\n",
    "        # 找索引最小的就是最先出现的   \n",
    "        return min( reIndexSet )"
   ]
  },
  {
   "cell_type": "code",
   "execution_count": 120,
   "metadata": {},
   "outputs": [
    {
     "name": "stdout",
     "output_type": "stream",
     "text": [
      "['c', 'e', 'q', 'r', 't', 'u', 'v', 'w', 'x', 'y', 'z']\n",
      "ceqrtuvwxyz\n"
     ]
    }
   ],
   "source": [
    "s = \"qwertyuzxcv\"\n",
    "\n",
    "l = list(s)\n",
    "l.sort()\n",
    "print(l)\n",
    "print(\"\".join(l))"
   ]
  },
  {
   "cell_type": "markdown",
   "metadata": {},
   "source": [
    "# 242. 有效的字母异位词\n",
    "\n",
    "\n",
    "给定两个字符串 s 和 t ，编写一个函数来判断 t 是否是 s 的一个字母异位词。\n",
    "\n",
    "例如，\n",
    "s = \"anagram\"，t = \"nagaram\"，返回 true\n",
    "s = \"rat\"，t = \"car\"，返回 false\n",
    "\n",
    "**注意:**\n",
    "\n",
    "假定字符串只包含小写字母。\n",
    "\n",
    "**提升难度:**\n",
    "\n",
    "输入的字符串包含 unicode 字符怎么办？你能能否调整你的解法来适应这种情况？\n",
    "\n",
    "**思路：**\n",
    "\n",
    "1. 第一个算法就是我很蠢的算法，突然回想起原来做 Android 开发，涉及到简单的算法的地方，界面倒不会卡，有的地方复杂了，我写的算法又很蠢，就很傻\n",
    "2. 后面是大神们的算法，简直太精彩"
   ]
  },
  {
   "cell_type": "code",
   "execution_count": 151,
   "metadata": {},
   "outputs": [],
   "source": [
    "class Solution(object):\n",
    "    def isAnagram(self, s, t):\n",
    "        \"\"\"\n",
    "        :type s: str\n",
    "        :type t: str\n",
    "        :rtype: bool\n",
    "        \"\"\"\n",
    "        # 1. 先给 string 按字母排序\n",
    "    \n",
    "        s1 = list(s)\n",
    "        t1 = list(t)\n",
    "        s1.sort()\n",
    "        t1.sort()\n",
    "        print(s1)\n",
    "        print(t1)\n",
    "        s2 = ''.join(s1)\n",
    "        t2 = \"\".join(t1)\n",
    "        print(s2)\n",
    "        print(t2)\n",
    "        # 2. 判断排序后的 string 是否相同\n",
    "        return  s2 ==  t2"
   ]
  },
  {
   "cell_type": "code",
   "execution_count": 152,
   "metadata": {},
   "outputs": [
    {
     "name": "stdout",
     "output_type": "stream",
     "text": [
      "['a', 'a', 'a', 'g', 'm', 'n', 'r']\n",
      "['a', 'a', 'a', 'g', 'm', 'n', 'r']\n",
      "aaagmnr\n",
      "aaagmnr\n",
      "True\n"
     ]
    }
   ],
   "source": [
    "s = \"anagram\"\n",
    "t = \"nagaram\"\n",
    "\n",
    "print(Solution().isAnagram(s,t))"
   ]
  },
  {
   "cell_type": "code",
   "execution_count": null,
   "metadata": {},
   "outputs": [],
   "source": [
    "class Solution(object):\n",
    "    def isAnagram(self, s, t):\n",
    "        \"\"\"\n",
    "        :type s: str\n",
    "        :type t: str\n",
    "        :rtype: bool\n",
    "        \"\"\"\n",
    "        # if s==\"\":\n",
    "        #     return True\n",
    "        # if len(s)==1:\n",
    "        #     if s==t:\n",
    "        #         return True\n",
    "        #     else:\n",
    "        #         return False\n",
    "        # else:\n",
    "        #     if  s==t:\n",
    "        #         return False\n",
    "        #     if len(s) == len(t) and sorted(list(s))==sorted(list(t)):\n",
    "        #         print '1'\n",
    "        #         return True\n",
    "        # return False\n",
    "        # 遍历所有字符 26 个 统计在 s t 中个出现的次数 判断是否相同\n",
    "        c = 'abcdefghijklmnopqrstuvwxyz'\n",
    "        for i in c:\n",
    "            if s.count(i) != t.count(i) :\n",
    "                return False\n",
    "        return True"
   ]
  },
  {
   "cell_type": "code",
   "execution_count": null,
   "metadata": {},
   "outputs": [],
   "source": [
    "class Solution(object):\n",
    "    def isAnagram(self, s, t):\n",
    "        \"\"\"\n",
    "        :type s: str\n",
    "        :type t: str\n",
    "        :rtype: bool\n",
    "        \"\"\"\n",
    "        return all(s.count(c)==t.count(c) for c in string.ascii_lowercase)"
   ]
  },
  {
   "cell_type": "code",
   "execution_count": null,
   "metadata": {},
   "outputs": [],
   "source": [
    "class Solution(object):\n",
    "    def isAnagram(self, s, t):\n",
    "        \"\"\"\n",
    "        :type s: str\n",
    "        :type t: str\n",
    "        :rtype: bool\n",
    "        \"\"\"\n",
    "        lens = len(s)    \n",
    "        lent = len(t)    \n",
    "        if lens != lent:     \n",
    "            return False    \n",
    "        dic={}\n",
    "        for cha in s:\n",
    "            if cha not in dic:\n",
    "                dic[cha]= 1\n",
    "            else:\n",
    "                dic[cha]+=1\n",
    "        for cha in t:\n",
    "            if cha not in dic:\n",
    "                return False\n",
    "            elif dic[cha]==0:\n",
    "                return False\n",
    "            dic[cha]-=1\n",
    "        return True"
   ]
  },
  {
   "cell_type": "code",
   "execution_count": null,
   "metadata": {},
   "outputs": [],
   "source": [
    "class Solution(object):\n",
    "    def isAnagram(self, s, t):\n",
    "        \"\"\"\n",
    "        :type s: str\n",
    "        :type t: str\n",
    "        :rtype: bool\n",
    "        \"\"\"\n",
    "        dict_s = {}\n",
    "        dict_t = {}\n",
    "        for i in s:\n",
    "            if i in dict_s: dict_s[i] += 1\n",
    "            else: dict_s[i] = 1\n",
    "        for i in t:\n",
    "            if i in dict_t: dict_t[i] += 1\n",
    "            else: dict_t[i] = 1\n",
    "        Flag = True\n",
    "        for k,v in dict_s.iteritems():\n",
    "            if (k in dict_t) and (dict_t[k] == v): continue\n",
    "            else:\n",
    "                Flag = False\n",
    "                break\n",
    "        if Flag and len(s) == len(t):\n",
    "            return True\n",
    "        else:\n",
    "            return False"
   ]
  },
  {
   "cell_type": "markdown",
   "metadata": {},
   "source": [
    "**总结：**\n",
    "\n",
    "1. 学到目前为止，我发现 但凡我写的算法 分各种情况去考虑了，那就是算法不具有通用性，好的算法不用考虑各种情况，简单各行就搞定"
   ]
  },
  {
   "cell_type": "markdown",
   "metadata": {},
   "source": [
    "# 125 验证回文字符串\n",
    "\n",
    "给定一个字符串，验证它是否是回文串，只考虑字母和数字字符，可以忽略字母的大小写。\n",
    "\n",
    "**说明：**本题中，我们将空字符串定义为有效的回文串。\n",
    "\n",
    "**示例 1:**\n",
    "\n",
    "```\n",
    "输入: \"A man, a plan, a canal: Panama\"\n",
    "输出: true\n",
    "```\n",
    "**示例 2:**\n",
    "\n",
    "```\n",
    "输入: \"race a car\"\n",
    "输出: false\n",
    "```\n",
    "\n",
    "思路：\n",
    "\n",
    "1. 先进行 string 的处理，去除符号和空格等，且转换为小写 \n",
    "2. 然后将 string [::-1] 倒序后 判断是否相同\n",
    "3. 空字符串是有效的 返回 true\n",
    "4. (大神的思路)很简单，使用正则表达式匹配所有字母，并将其转换为小写字母。然后收尾比对，不一样就返回 False。"
   ]
  },
  {
   "cell_type": "code",
   "execution_count": 170,
   "metadata": {},
   "outputs": [],
   "source": [
    "import re \n",
    "\n",
    "class Solution(object):\n",
    "    def isPalindrome(self, s):\n",
    "        \"\"\"\n",
    "        :type s: str\n",
    "        :rtype: bool\n",
    "        \"\"\" \n",
    "        s = re.findall('\\w{1}', s.lower())\n",
    "        s_len = int(len(s) / 2)\n",
    "        for i in range(s_len):\n",
    "            if s[i] != s[-(i+1)]:\n",
    "                return False\n",
    "        return True"
   ]
  },
  {
   "cell_type": "code",
   "execution_count": 171,
   "metadata": {},
   "outputs": [
    {
     "name": "stdout",
     "output_type": "stream",
     "text": [
      "True\n"
     ]
    }
   ],
   "source": [
    "s = \"A man, a plan, a canal: Panama\"\n",
    "print(Solution().isPalindrome(s))"
   ]
  },
  {
   "cell_type": "code",
   "execution_count": 153,
   "metadata": {},
   "outputs": [
    {
     "data": {
      "text/plain": [
       "True"
      ]
     },
     "execution_count": 153,
     "metadata": {},
     "output_type": "execute_result"
    }
   ],
   "source": [
    " '' == ''"
   ]
  },
  {
   "cell_type": "code",
   "execution_count": 178,
   "metadata": {},
   "outputs": [],
   "source": [
    "class Solution(object):\n",
    "    def isPalindrome(self, s):\n",
    "        \"\"\"\n",
    "        :type s: str\n",
    "        :rtype: bool\n",
    "        \"\"\"\n",
    "        s = re.findall('\\w{1}', s.lower())\n",
    "        print(s)\n",
    "        \n",
    "        s1 = s[::-1]\n",
    "        print(s1)\n",
    "        return s == s1"
   ]
  },
  {
   "cell_type": "code",
   "execution_count": null,
   "metadata": {},
   "outputs": [],
   "source": [
    "class Solution(object):\n",
    "    def isPalindrome(self, s):\n",
    "        \"\"\"\n",
    "        :type s: str\n",
    "        :rtype: bool\n",
    "        \"\"\"\n",
    "        if len(s) == 0 or len(s)==1:\n",
    "            return True\n",
    "        i = 0\n",
    "        j = len(s)-1\n",
    "        while i < j:\n",
    "            while i < j and not s[i].isalnum():\n",
    "                i += 1\n",
    "            while i < j and not s[j].isalnum():\n",
    "                j -= 1\n",
    "            if s[i].lower() != s[j].lower():\n",
    "                return False\n",
    "            i += 1\n",
    "            j -= 1\n",
    "        return True"
   ]
  },
  {
   "cell_type": "code",
   "execution_count": null,
   "metadata": {},
   "outputs": [],
   "source": [
    "class Solution(object):\n",
    "    def isPalindrome(self, s):\n",
    "        \"\"\"\n",
    "        :type s: str\n",
    "        :rtype: bool\n",
    "        \"\"\"\n",
    "        if not s:\n",
    "            return True\n",
    "        \n",
    "        new_s = [char.lower() for char in s if char.isalnum()]\n",
    "        length = len(new_s)\n",
    "        for ind in range(0, length/2):\n",
    "            if new_s[ind] != new_s[length-1-ind]:\n",
    "                return False\n",
    "        return True\n",
    "            "
   ]
  },
  {
   "cell_type": "code",
   "execution_count": null,
   "metadata": {},
   "outputs": [],
   "source": [
    "import re\n",
    "class Solution(object):\n",
    "    def isPalindrome(self, s):\n",
    "        \"\"\"\n",
    "        :type s: str\n",
    "        :rtype: bool\n",
    "        \"\"\"\n",
    "        s=re.sub('[^a-zA-Zr\\d]','',s).lower()\n",
    "        return s==s[::-1]"
   ]
  },
  {
   "cell_type": "code",
   "execution_count": null,
   "metadata": {},
   "outputs": [],
   "source": [
    "import re\n",
    "class Solution(object):\n",
    "    def isPalindrome(self, s):\n",
    "        \"\"\"\n",
    "        :type s: str\n",
    "        :rtype: bool\n",
    "        \"\"\"\n",
    "        s=re.sub('[^a-zA-Zr\\d]','',s).lower()\n",
    "        return s==s[::-1]\n",
    "        "
   ]
  },
  {
   "cell_type": "code",
   "execution_count": null,
   "metadata": {},
   "outputs": [],
   "source": [
    "class Solution(object):\n",
    "    def isPalindrome(self, s):\n",
    "        if len(s)>100000:\n",
    "            return True\n",
    "        news=\"\"\n",
    "        for k in s:\n",
    "            if k.isalpha()==True or k.isdigit()==True:\n",
    "                news=news+k\n",
    "        news=news.lower()\n",
    "        i=0\n",
    "        j=len(news)-1\n",
    "        if len(news)<2:return True\n",
    "        while i<=j:\n",
    "            if news[i]==news[j]:\n",
    "                i=i+1\n",
    "                j=j-1\n",
    "                pass\n",
    "            else:\n",
    "                return False\n",
    "            while news[i].isalpha()==False and news[i].isdigit()==False:\n",
    "                i=i+1\n",
    "            while news[j].isalpha()==False and news[j].isdigit()==False:\n",
    "                j=j-1\n",
    "        return True"
   ]
  },
  {
   "cell_type": "code",
   "execution_count": 179,
   "metadata": {},
   "outputs": [
    {
     "name": "stdout",
     "output_type": "stream",
     "text": [
      "['a', 'b', 'c', 'a']\n",
      "['a', 'c', 'b', 'a']\n",
      "False\n"
     ]
    }
   ],
   "source": [
    "s = \"abca\"\n",
    "print(Solution().isPalindrome(s))"
   ]
  },
  {
   "cell_type": "markdown",
   "metadata": {},
   "source": [
    "# 680. 验证回文字符串 Ⅱ\n",
    "\n",
    "### 题目描述\n",
    "\n",
    "给定一个非空字符串 s，最多删除一个字符。判断是否能成为回文字符串。\n",
    "\n",
    "**示例 1:**\n",
    "```\n",
    "输入: \"aba\"\n",
    "输出: True\n",
    "```\n",
    "**示例 2:**\n",
    "```\n",
    "输入: \"abca\"\n",
    "输出: True\n",
    "解释: 你可以删除c字符。\n",
    "```\n",
    "**注意:**\n",
    "\n",
    "字符串只包含从 a-z 的小写字母。字符串的最大长度是50000。\n"
   ]
  },
  {
   "cell_type": "code",
   "execution_count": null,
   "metadata": {},
   "outputs": [],
   "source": [
    "class Solution(object):\n",
    "    def validPalindrome(self, s):\n",
    "        \"\"\"\n",
    "        :type s: str\n",
    "        :rtype: bool\n",
    "        \"\"\""
   ]
  }
 ],
 "metadata": {
  "kernelspec": {
   "display_name": "Python 3",
   "language": "python",
   "name": "python3"
  },
  "language_info": {
   "codemirror_mode": {
    "name": "ipython",
    "version": 3
   },
   "file_extension": ".py",
   "mimetype": "text/x-python",
   "name": "python",
   "nbconvert_exporter": "python",
   "pygments_lexer": "ipython3",
   "version": "3.6.2"
  }
 },
 "nbformat": 4,
 "nbformat_minor": 2
}
