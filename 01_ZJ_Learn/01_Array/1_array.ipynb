{
 "cells": [
  {
   "cell_type": "markdown",
   "metadata": {},
   "source": [
    "# Algorithm & Data structure| LeetCode_ 数组系列\n",
    "\n",
    "由于对数据结构和算法掌握的不熟练，目前是小白入门阶段，痛下决心，要好好补一补。从大神大牛的算法学习，逐渐自己加强自身技能，若有错误，还望批评指教。---ZJ\n",
    "\n",
    "[LeetCode:](https://leetcode-cn.com/problems/two-sum/description/) | [数组：](https://leetcode-cn.com/problemset/all/?topicSlugs=array)| [Leetbook](https://hk029.gitbooks.io/leetbook/content/%E6%95%B0%E7%BB%84/001.Two%20Sum[E].html)| [JackCui:](https://blog.csdn.net/c406495762/article/details/79247243)\n",
    "\n",
    "# 1.两数之和 （Easy）\n",
    "\n",
    "## 题目描述\n",
    "\n",
    "给定一个整数数组和一个目标值，找出数组中和为目标值的两个数。\n",
    "\n",
    "你可以假设每个输入只对应一种答案，且同样的元素不能被重复利用。\n",
    "\n",
    "\n",
    "**示例:**\n",
    "\n",
    "```\n",
    "给定 nums = [2, 7, 11, 15], target = 9\n",
    "\n",
    "因为 nums[0] + nums[1] = 2 + 7 = 9\n",
    "所以返回 [0, 1]\n",
    "\n",
    "```\n",
    "\n",
    "自己的理解：\n",
    "\n",
    "1. 遍历，双重 for 循环遍历\n",
    "2. 我的想法很傻\n",
    "3. 先学习大神们的算法\n",
    "\n",
    "方法一：（96.65%）\n",
    "\n",
    "学习原作者：[JackCui](https://blog.csdn.net/c406495762/article/details/79247243)的算法"
   ]
  },
  {
   "cell_type": "code",
   "execution_count": 5,
   "metadata": {},
   "outputs": [],
   "source": [
    "class Solution(object):\n",
    "    def twoSum(self, nums, target):\n",
    "        \"\"\"\n",
    "        :type nums: List[int]\n",
    "        :type target: int\n",
    "        :rtype: List[int]\n",
    "        \"\"\"\n",
    "\n",
    "        # 1. 先判断 nums 是否是 2 个数，<= 1 则返回 False\n",
    "        if len(nums) <= 1:\n",
    "            print(\"数组长度错误\")\n",
    "            return False\n",
    "        # 2. 创建空字典\n",
    "        result_dic = {}\n",
    "        \n",
    "        # 3. for 循环遍历 nums 的长度\n",
    "        for i in range(len(nums)):\n",
    "            print(i)\n",
    "            # 4. 如果 nums 中 第 i 个元素是 字典中的 key\n",
    "            # 那么返回 一个list ，list 中包含 result_dic 字典中 num[i] 作为 key 对应的 value 的值，以及 i 值，为最终结果\n",
    "            if nums[i] in result_dic:\n",
    "                print(\"result_dic :\",result_dic)\n",
    "                return [result_dic[nums[i]], i]\n",
    "            # 5. 如果 nums 中 第 i 个元素不在字典中，\n",
    "            # 那么 在字典中添加 以 target 减去 nums[i] 元素的值 作为 key ，value 为 索引值 i \n",
    "            else:\n",
    "                 result_dic[target - nums[i]] = i\n",
    "                   "
   ]
  },
  {
   "cell_type": "code",
   "execution_count": 8,
   "metadata": {},
   "outputs": [
    {
     "name": "stdout",
     "output_type": "stream",
     "text": [
      "0\n",
      "1\n",
      "2\n",
      "3\n",
      "4\n",
      "5\n",
      "6\n",
      "7\n",
      "result_dic : {3: 0, 9: 2, 7: 3, 4: 4, -2: 5, -6: 6}\n",
      "result: [3, 7]\n"
     ]
    }
   ],
   "source": [
    "s = Solution()\n",
    "print(\"result:\",s.twoSum([6,0,0,2, 5, 11, 15,7], 9))"
   ]
  },
  {
   "cell_type": "code",
   "execution_count": 7,
   "metadata": {},
   "outputs": [
    {
     "name": "stdout",
     "output_type": "stream",
     "text": [
      "0\n",
      "1\n",
      "result_dic : {5: 0}\n",
      "result: [0, 1]\n"
     ]
    }
   ],
   "source": [
    "s = Solution()\n",
    "print(\"result:\",s.twoSum([1,5,0,2, 5, 11, 15,7], 6))"
   ]
  },
  {
   "cell_type": "markdown",
   "metadata": {},
   "source": [
    "### 解释：\n",
    "\n",
    "1. 从上面两个例子运算的过程及结果可以看出来，这个算法的巧妙之处在于，将原有的 加法问题，转换为以结果为主导的减法问题\n",
    "2. result_dic 字典中的 key 是 target 减去 当前 i 值后的数，并记录 使得该算式成立的 i 值\n",
    "3. 所以若 nums[i] 正存在于 result_dic 中，则又找到了与之前 存的内容正好匹配的 两个值，同时也对应着两个索引\n",
    "4. 所以返回的是，之前存的 key 对应的 value （也就是其中一个索引值） 以及当前的 i 值\n",
    "\n",
    "---\n",
    "\n",
    "# 26. 删除排序数组中的重复项 (Easy)\n",
    "\n",
    "## 题目描述\n",
    "\n",
    "给定一个排序数组，你需要在原地删除重复出现的元素，使得每个元素只出现一次，返回移除后数组的新长度。\n",
    "\n",
    "不要使用额外的数组空间，你必须在原地修改输入数组并在使用 O(1) 额外空间的条件下完成。\n",
    "\n",
    "**示例 1:**\n",
    "\n",
    "```\n",
    "给定数组 nums = [1,1,2], \n",
    "\n",
    "函数应该返回新的长度 2, 并且原数组 nums 的前两个元素被修改为 1, 2。 \n",
    "\n",
    "你不需要考虑数组中超出新长度后面的元素。\n",
    "```\n",
    "\n",
    "**示例 2:**\n",
    "\n",
    "```\n",
    "给定 nums = [0,0,1,1,1,2,2,3,3,4],\n",
    "\n",
    "函数应该返回新的长度 5, 并且原数组 nums 的前五个元素被修改为 0, 1, 2, 3, 4。\n",
    "\n",
    "你不需要考虑数组中超出新长度后面的元素。\n",
    "\n",
    "```\n",
    "\n",
    "**说明:**\n",
    "\n",
    "为什么返回数值是整数，但输出的答案是数组呢?\n",
    "\n",
    "请注意，输入数组是以“引用”方式传递的，这意味着在函数里修改输入数组对于调用者是可见的。\n",
    "\n",
    "你可以想象内部操作如下:\n",
    "\n",
    "```\n",
    "// nums 是以“引用”方式传递的。也就是说，不对实参做任何拷贝\n",
    "int len = removeDuplicates(nums);\n",
    "\n",
    "// 在函数里修改输入数组对于调用者是可见的。\n",
    "// 根据你的函数返回的长度, 它会打印出数组中该长度范围内的所有元素。\n",
    "for (int i = 0; i < len; i++) {\n",
    "    print(nums[i]);\n",
    "}\n",
    "\n",
    "```\n",
    "**方法一：**"
   ]
  },
  {
   "cell_type": "code",
   "execution_count": 62,
   "metadata": {},
   "outputs": [],
   "source": [
    "#  26.82%\n",
    "class Solution1(object):\n",
    "    def removeDuplicates(self, nums):\n",
    "        \"\"\"\n",
    "        :type nums: List[int]\n",
    "        :rtype: int\n",
    "        \"\"\"      \n",
    "        i = 0\n",
    "        while i < len(nums)-1:\n",
    "            print(nums)\n",
    "            if nums[i] == nums[i+1]:                \n",
    "                del nums[i]\n",
    "            else:\n",
    "                i+=1\n",
    "        return len(nums)                                                                       "
   ]
  },
  {
   "cell_type": "code",
   "execution_count": 63,
   "metadata": {},
   "outputs": [
    {
     "name": "stdout",
     "output_type": "stream",
     "text": [
      "[0, 0, 1, 1, 2, 2, 3, 3, 4, 4, 7, 9]\n",
      "[0, 1, 1, 2, 2, 3, 3, 4, 4, 7, 9]\n",
      "[0, 1, 1, 2, 2, 3, 3, 4, 4, 7, 9]\n",
      "[0, 1, 2, 2, 3, 3, 4, 4, 7, 9]\n",
      "[0, 1, 2, 2, 3, 3, 4, 4, 7, 9]\n",
      "[0, 1, 2, 3, 3, 4, 4, 7, 9]\n",
      "[0, 1, 2, 3, 3, 4, 4, 7, 9]\n",
      "[0, 1, 2, 3, 4, 4, 7, 9]\n",
      "[0, 1, 2, 3, 4, 4, 7, 9]\n",
      "[0, 1, 2, 3, 4, 7, 9]\n",
      "[0, 1, 2, 3, 4, 7, 9]\n",
      "result: 7\n"
     ]
    }
   ],
   "source": [
    "s1 = Solution1()\n",
    "print(\"result:\", s1.removeDuplicates([0, 0, 1, 1, 2, 2, 3, 3, 4, 4, 7, 9]))"
   ]
  },
  {
   "cell_type": "code",
   "execution_count": 40,
   "metadata": {},
   "outputs": [
    {
     "name": "stdout",
     "output_type": "stream",
     "text": [
      "[0, 3, 4, 9, 1, 1, 0, 3, 4, 7, 2, 2]\n",
      "[0, 0, 1, 1, 2, 2, 3, 3, 4, 4, 7, 9]\n"
     ]
    }
   ],
   "source": [
    "a = [0,3,4,9,1,1,0,3,4,7,2,2]\n",
    "print(a)\n",
    "a.sort() # 使用 list.sort() 方法来排序，此时 list 本身将被修改。\n",
    "print(a) "
   ]
  },
  {
   "cell_type": "markdown",
   "metadata": {},
   "source": [
    "**错误记录：**\n",
    "\n",
    "1. 注意审题，“给定一个排序数组 ”，已经排好序，则从已经排好的序的角度去考虑，不要去考虑乱序的，哪怕真是乱序的 list ，那么第一步 也应该是先排序 ，之后再处理\n",
    "\n",
    "**方法二：** "
   ]
  },
  {
   "cell_type": "code",
   "execution_count": 60,
   "metadata": {},
   "outputs": [],
   "source": [
    "# 85.45%\n",
    "class Solution2(object):\n",
    "    \"\"\" \n",
    "    @param A: a list of integers \n",
    "    @return an integer \n",
    "    \"\"\"  \n",
    "    def removeDuplicates(self, nums):  \n",
    "        #write your code here  \n",
    "#         k=0  \n",
    "#         for i in range(1,len(A)):  \n",
    "#             if A[i] != A[k]:  \n",
    "#                 k+=1  \n",
    "#                 A[k] = A[i]  \n",
    "          \n",
    "#         del A[k+1:len(A)]  \n",
    "#         return len(A)  \n",
    "        # for-loop 遍历 nums 从 1 到 len(nums) 的长度，去除 长度为 0 的情况\n",
    "        # 如果\n",
    "        \n",
    "        k = 0\n",
    "        for i in range(1, len(nums)):\n",
    "            if nums[i] != nums[k]:\n",
    "                k+=1\n",
    "                nums[k] = nums[i]\n",
    "                print(nums)\n",
    "             \n",
    "        del nums[k+1:len(nums)]\n",
    "        print(nums)\n",
    "        return len(nums)\n",
    "            "
   ]
  },
  {
   "cell_type": "code",
   "execution_count": 61,
   "metadata": {},
   "outputs": [
    {
     "name": "stdout",
     "output_type": "stream",
     "text": [
      "[0, 1, 1, 1, 2, 2, 3, 3, 4, 4, 7, 9]\n",
      "[0, 1, 2, 1, 2, 2, 3, 3, 4, 4, 7, 9]\n",
      "[0, 1, 2, 3, 2, 2, 3, 3, 4, 4, 7, 9]\n",
      "[0, 1, 2, 3, 4, 2, 3, 3, 4, 4, 7, 9]\n",
      "[0, 1, 2, 3, 4, 7, 3, 3, 4, 4, 7, 9]\n",
      "[0, 1, 2, 3, 4, 7, 9, 3, 4, 4, 7, 9]\n",
      "[0, 1, 2, 3, 4, 7, 9]\n",
      "result: 7\n"
     ]
    }
   ],
   "source": [
    "s2 = Solution2()\n",
    "print(\"result:\", s2.removeDuplicates([0, 0, 1, 1, 2, 2, 3, 3, 4, 4, 7, 9]))"
   ]
  },
  {
   "cell_type": "markdown",
   "metadata": {},
   "source": [
    "**总结：**\n",
    "\n",
    "1. 法 1 和法 2 对比，明显 法 2 更快\n",
    "2. 法 1 是两两对比，会将同一个数，跟其他的数多次对比判断\n",
    "3. 法 2 用的则是，先找出来所有不相同的数，将不同的数赋值到最前面，最终能得到，所有唯一的数都排列在最前面，中间舍弃了一些相同的数，后面相同的数，最后也会被提取或删掉\n",
    "\n",
    "---\n",
    "\n",
    "# 121. 买卖股票的最佳时机 (Easy)\n",
    "\n",
    "## 题目描述\n",
    "\n",
    "给定一个数组，它的第 i 个元素是一支给定股票第 i 天的价格。\n",
    "\n",
    "如果你最多只允许完成一笔交易（即买入和卖出一支股票），设计一个算法来计算你所能获取的最大利润。\n",
    "\n",
    "注意你不能在买入股票前卖出股票。\n",
    "\n",
    "**示例 1:**\n",
    "\n",
    "```\n",
    "输入: [7,1,5,3,6,4]\n",
    "输出: 5\n",
    "解释: 在第 2 天（股票价格 = 1）的时候买入，在第 5 天（股票价格 = 6）的时候卖出，最大利润 = 6-1 = 5 。\n",
    "     注意利润不能是 7-1 = 6, 因为卖出价格需要大于买入价格。\n",
    "```    \n",
    "**示例 2:**\n",
    "\n",
    "```\n",
    "输入: [7,6,4,3,1]\n",
    "输出: 0\n",
    "解释: 在这种情况下, 没有交易完成, 所以最大利润为 0。\n",
    "```\n",
    "**思路：**\n",
    "\n",
    "1. 先找到最小值，然后再找最小值后面的最大值\n",
    "2. 第 2 小值，以及第 2 小值后面的最大值 如：`[2, 9, 1, 3]`\n",
    "3. 也就是所有小值，以及后面最大值 之间的差值，再比较哪个更大\n",
    "4. 双指针遍历所有情况，选择最大利润。时间复杂度 $O(n^2)$ \n",
    "\n",
    "**方法一：**"
   ]
  },
  {
   "cell_type": "code",
   "execution_count": null,
   "metadata": {},
   "outputs": [],
   "source": [
    "class Solution(object):\n",
    "    \"\"\"\n",
    "    @param prices: Given an integer array\n",
    "    @return: Maximum profit\n",
    "    \"\"\"\n",
    "    def maxProfit(self, prices):\n",
    "        # write your code here\n",
    "        result = 0\n",
    "        for i in range(len(prices)-1):\n",
    "            for j in range(i+1, len(prices)):\n",
    "                result = max(result, prices[j] - prices[i])\n",
    "        return result           "
   ]
  },
  {
   "cell_type": "markdown",
   "metadata": {},
   "source": [
    "\n",
    "**方法二：**\n",
    "\n",
    "动态规划：选取最小的价格购买，保留最大的利润。只需一次遍历。时间复杂度$O(n)$ \n",
    "\n",
    "**思路：**"
   ]
  },
  {
   "cell_type": "code",
   "execution_count": null,
   "metadata": {},
   "outputs": [],
   "source": []
  }
 ],
 "metadata": {
  "kernelspec": {
   "display_name": "Python 3",
   "language": "python",
   "name": "python3"
  },
  "language_info": {
   "codemirror_mode": {
    "name": "ipython",
    "version": 3
   },
   "file_extension": ".py",
   "mimetype": "text/x-python",
   "name": "python",
   "nbconvert_exporter": "python",
   "pygments_lexer": "ipython3",
   "version": "3.6.2"
  }
 },
 "nbformat": 4,
 "nbformat_minor": 2
}
