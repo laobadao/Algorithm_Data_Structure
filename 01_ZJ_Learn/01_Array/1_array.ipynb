{
 "cells": [
  {
   "cell_type": "markdown",
   "metadata": {},
   "source": [
    "# Algorithm & Data structure| LeetCode_ 数组系列\n",
    "\n",
    "由于对数据结构和算法掌握的不熟练，目前是小白入门阶段，痛下决心，要好好补一补。从大神大牛的算法学习，逐渐自己加强自身技能，若有理解错误，还望批评指教。---ZJ\n",
    "\n",
    "[LeetCode](https://leetcode-cn.com/problems/two-sum/description/) | [数组系列](https://leetcode-cn.com/problemset/all/?topicSlugs=array)| [Leetbook](https://hk029.gitbooks.io/leetbook/content/%E6%95%B0%E7%BB%84/001.Two%20Sum[E].html)| [JackCui](https://blog.csdn.net/c406495762/article/details/79247243)|[LeetCode 探索](https://leetcode-cn.com/explore/)\n",
    "\n",
    "# 1.两数之和 （Easy）\n",
    "\n",
    "## 题目描述\n",
    "\n",
    "给定一个整数数组和一个目标值，找出数组中和为目标值的两个数。\n",
    "\n",
    "你可以假设每个输入只对应一种答案，且同样的元素不能被重复利用。\n",
    "\n",
    "\n",
    "**示例:**\n",
    "\n",
    "```\n",
    "给定 nums = [2, 7, 11, 15], target = 9\n",
    "\n",
    "因为 nums[0] + nums[1] = 2 + 7 = 9\n",
    "所以返回 [0, 1]\n",
    "\n",
    "```\n",
    "\n",
    "自己的理解：\n",
    "\n",
    "1. 遍历，双重 for 循环遍历\n",
    "2. 我的想法很傻\n",
    "3. 先学习大神们的算法\n",
    "\n",
    "方法一：（96.65%）\n",
    "\n",
    "学习原作者：[JackCui](https://blog.csdn.net/c406495762/article/details/79247243)的算法"
   ]
  },
  {
   "cell_type": "code",
   "execution_count": 5,
   "metadata": {},
   "outputs": [],
   "source": [
    "class Solution(object):\n",
    "    def twoSum(self, nums, target):\n",
    "        \"\"\"\n",
    "        :type nums: List[int]\n",
    "        :type target: int\n",
    "        :rtype: List[int]\n",
    "        \"\"\"\n",
    "\n",
    "        # 1. 先判断 nums 是否是 2 个数，<= 1 则返回 False\n",
    "        if len(nums) <= 1:\n",
    "            print(\"数组长度错误\")\n",
    "            return False\n",
    "        # 2. 创建空字典\n",
    "        result_dic = {}\n",
    "        \n",
    "        # 3. for 循环遍历 nums 的长度\n",
    "        for i in range(len(nums)):\n",
    "            print(i)\n",
    "            # 4. 如果 nums 中 第 i 个元素是 字典中的 key\n",
    "            # 那么返回 一个list ，list 中包含 result_dic 字典中 num[i] 作为 key 对应的 value 的值，以及 i 值，为最终结果\n",
    "            if nums[i] in result_dic:\n",
    "                print(\"result_dic :\",result_dic)\n",
    "                return [result_dic[nums[i]], i]\n",
    "            # 5. 如果 nums 中 第 i 个元素不在字典中，\n",
    "            # 那么 在字典中添加 以 target 减去 nums[i] 元素的值 作为 key ，value 为 索引值 i \n",
    "            else:\n",
    "                 result_dic[target - nums[i]] = i\n",
    "                   "
   ]
  },
  {
   "cell_type": "code",
   "execution_count": 8,
   "metadata": {},
   "outputs": [
    {
     "name": "stdout",
     "output_type": "stream",
     "text": [
      "0\n",
      "1\n",
      "2\n",
      "3\n",
      "4\n",
      "5\n",
      "6\n",
      "7\n",
      "result_dic : {3: 0, 9: 2, 7: 3, 4: 4, -2: 5, -6: 6}\n",
      "result: [3, 7]\n"
     ]
    }
   ],
   "source": [
    "s = Solution()\n",
    "print(\"result:\",s.twoSum([6,0,0,2, 5, 11, 15,7], 9))"
   ]
  },
  {
   "cell_type": "code",
   "execution_count": 7,
   "metadata": {},
   "outputs": [
    {
     "name": "stdout",
     "output_type": "stream",
     "text": [
      "0\n",
      "1\n",
      "result_dic : {5: 0}\n",
      "result: [0, 1]\n"
     ]
    }
   ],
   "source": [
    "s = Solution()\n",
    "print(\"result:\",s.twoSum([1,5,0,2, 5, 11, 15,7], 6))"
   ]
  },
  {
   "cell_type": "markdown",
   "metadata": {},
   "source": [
    "**方法二：**"
   ]
  },
  {
   "cell_type": "code",
   "execution_count": null,
   "metadata": {},
   "outputs": [],
   "source": [
    "class Solution(object):\n",
    "    def twoSum(self, nums, target):\n",
    "        \"\"\"\n",
    "        :type nums: List[int]\n",
    "        :type target: int\n",
    "        :rtype: List[int]\n",
    "        \"\"\"\n",
    "#         hash = {}\n",
    "#         #循环nums数值，并添加映射\n",
    "#         for i in range(len(nums)):\n",
    "#             if target - nums[i] in hash:\n",
    "#                 return [hash[target - nums[i]], i]\n",
    "#             hash[nums[i]] = i\n",
    "#         #无解的情况\n",
    "#         return [-1, -1]\n",
    "        hash = {}\n",
    "        for i in range(len(nums)):\n",
    "            if target - nums[i] in hash:\n",
    "                return [hash[target - nums[i]], i]\n",
    "            hash[nums[i]] = i\n",
    "        return [-1, -1]    "
   ]
  },
  {
   "cell_type": "markdown",
   "metadata": {},
   "source": [
    "### 解释：\n",
    "\n",
    "1. 从上面两个例子运算的过程及结果可以看出来，这个算法的巧妙之处在于，将原有的 加法问题，转换为以结果为主导的减法问题\n",
    "2. result_dic 字典中的 key 是 target 减去 当前 i 值后的数，并记录 使得该算式成立的 i 值\n",
    "3. 所以若 nums[i] 正存在于 result_dic 中，则又找到了与之前 存的内容正好匹配的 两个值，同时也对应着两个索引\n",
    "4. 所以返回的是，之前存的 key 对应的 value （也就是其中一个索引值） 以及当前的 i 值\n",
    "\n",
    "---\n",
    "\n",
    "# 26. 删除排序数组中的重复项 (Easy)\n",
    "\n",
    "## 题目描述\n",
    "\n",
    "给定一个排序数组，你需要在原地删除重复出现的元素，使得每个元素只出现一次，返回移除后数组的新长度。\n",
    "\n",
    "不要使用额外的数组空间，你必须在原地修改输入数组并在使用 O(1) 额外空间的条件下完成。\n",
    "\n",
    "**示例 1:**\n",
    "\n",
    "```\n",
    "给定数组 nums = [1,1,2], \n",
    "\n",
    "函数应该返回新的长度 2, 并且原数组 nums 的前两个元素被修改为 1, 2。 \n",
    "\n",
    "你不需要考虑数组中超出新长度后面的元素。\n",
    "```\n",
    "\n",
    "**示例 2:**\n",
    "\n",
    "```\n",
    "给定 nums = [0,0,1,1,1,2,2,3,3,4],\n",
    "\n",
    "函数应该返回新的长度 5, 并且原数组 nums 的前五个元素被修改为 0, 1, 2, 3, 4。\n",
    "\n",
    "你不需要考虑数组中超出新长度后面的元素。\n",
    "\n",
    "```\n",
    "\n",
    "**说明:**\n",
    "\n",
    "为什么返回数值是整数，但输出的答案是数组呢?\n",
    "\n",
    "请注意，输入数组是以“引用”方式传递的，这意味着在函数里修改输入数组对于调用者是可见的。\n",
    "\n",
    "你可以想象内部操作如下:\n",
    "\n",
    "```\n",
    "// nums 是以“引用”方式传递的。也就是说，不对实参做任何拷贝\n",
    "int len = removeDuplicates(nums);\n",
    "\n",
    "// 在函数里修改输入数组对于调用者是可见的。\n",
    "// 根据你的函数返回的长度, 它会打印出数组中该长度范围内的所有元素。\n",
    "for (int i = 0; i < len; i++) {\n",
    "    print(nums[i]);\n",
    "}\n",
    "\n",
    "```\n",
    "**方法一：**"
   ]
  },
  {
   "cell_type": "code",
   "execution_count": 62,
   "metadata": {},
   "outputs": [],
   "source": [
    "class Solution1(object):\n",
    "    def removeDuplicates(self, nums):\n",
    "        \"\"\"\n",
    "        :type nums: List[int]\n",
    "        :rtype: int\n",
    "        \"\"\"      \n",
    "        i = 0\n",
    "        while i < len(nums)-1:\n",
    "            print(nums)\n",
    "            if nums[i] == nums[i+1]:                \n",
    "                del nums[i]\n",
    "            else:\n",
    "                i+=1\n",
    "        return len(nums)  \n",
    "    \n",
    "#         new = list(set(nums))\n",
    "#         new.sort()\n",
    "#         length = len(new)\n",
    "#         for i in range(length):\n",
    "#             nums[i] = new[i]\n",
    "#         return length    "
   ]
  },
  {
   "cell_type": "code",
   "execution_count": 63,
   "metadata": {},
   "outputs": [
    {
     "name": "stdout",
     "output_type": "stream",
     "text": [
      "[0, 0, 1, 1, 2, 2, 3, 3, 4, 4, 7, 9]\n",
      "[0, 1, 1, 2, 2, 3, 3, 4, 4, 7, 9]\n",
      "[0, 1, 1, 2, 2, 3, 3, 4, 4, 7, 9]\n",
      "[0, 1, 2, 2, 3, 3, 4, 4, 7, 9]\n",
      "[0, 1, 2, 2, 3, 3, 4, 4, 7, 9]\n",
      "[0, 1, 2, 3, 3, 4, 4, 7, 9]\n",
      "[0, 1, 2, 3, 3, 4, 4, 7, 9]\n",
      "[0, 1, 2, 3, 4, 4, 7, 9]\n",
      "[0, 1, 2, 3, 4, 4, 7, 9]\n",
      "[0, 1, 2, 3, 4, 7, 9]\n",
      "[0, 1, 2, 3, 4, 7, 9]\n",
      "result: 7\n"
     ]
    }
   ],
   "source": [
    "s1 = Solution1()\n",
    "print(\"result:\", s1.removeDuplicates([0, 0, 1, 1, 2, 2, 3, 3, 4, 4, 7, 9]))"
   ]
  },
  {
   "cell_type": "code",
   "execution_count": 40,
   "metadata": {},
   "outputs": [
    {
     "name": "stdout",
     "output_type": "stream",
     "text": [
      "[0, 3, 4, 9, 1, 1, 0, 3, 4, 7, 2, 2]\n",
      "[0, 0, 1, 1, 2, 2, 3, 3, 4, 4, 7, 9]\n"
     ]
    }
   ],
   "source": [
    "a = [0,3,4,9,1,1,0,3,4,7,2,2]\n",
    "print(a)\n",
    "a.sort() # 使用 list.sort() 方法来排序，此时 list 本身将被修改。\n",
    "print(a) "
   ]
  },
  {
   "cell_type": "markdown",
   "metadata": {},
   "source": [
    "**错误记录：**\n",
    "\n",
    "1. 注意审题，“给定一个排序数组 ”，已经排好序，则从已经排好的序的角度去考虑，不要去考虑乱序的，哪怕真是乱序的 list ，那么第一步 也应该是先排序 ，之后再处理\n",
    "\n",
    "**方法二：** "
   ]
  },
  {
   "cell_type": "code",
   "execution_count": 60,
   "metadata": {},
   "outputs": [],
   "source": [
    "# 85.45% 60ms\n",
    "class Solution2(object):\n",
    "    \"\"\" \n",
    "    @param A: a list of integers \n",
    "    @return an integer \n",
    "    \"\"\"  \n",
    "    def removeDuplicates(self, nums):  \n",
    "        #write your code here  \n",
    "#         k=0  \n",
    "#         for i in range(1,len(A)):  \n",
    "#             if A[i] != A[k]:  \n",
    "#                 k+=1  \n",
    "#                 A[k] = A[i]  \n",
    "          \n",
    "#         del A[k+1:len(A)]  \n",
    "#         return len(A)  \n",
    "        # for-loop 遍历 nums 从 1 到 len(nums) 的长度，去除 长度为 0 的情况\n",
    "        # 如果\n",
    "        \n",
    "        k = 0\n",
    "        for i in range(1, len(nums)):\n",
    "            if nums[i] != nums[k]:\n",
    "                k+=1\n",
    "                nums[k] = nums[i]\n",
    "                print(nums)\n",
    "             \n",
    "        del nums[k+1:len(nums)]\n",
    "        print(nums)\n",
    "        return len(nums)\n",
    "            "
   ]
  },
  {
   "cell_type": "code",
   "execution_count": 61,
   "metadata": {},
   "outputs": [
    {
     "name": "stdout",
     "output_type": "stream",
     "text": [
      "[0, 1, 1, 1, 2, 2, 3, 3, 4, 4, 7, 9]\n",
      "[0, 1, 2, 1, 2, 2, 3, 3, 4, 4, 7, 9]\n",
      "[0, 1, 2, 3, 2, 2, 3, 3, 4, 4, 7, 9]\n",
      "[0, 1, 2, 3, 4, 2, 3, 3, 4, 4, 7, 9]\n",
      "[0, 1, 2, 3, 4, 7, 3, 3, 4, 4, 7, 9]\n",
      "[0, 1, 2, 3, 4, 7, 9, 3, 4, 4, 7, 9]\n",
      "[0, 1, 2, 3, 4, 7, 9]\n",
      "result: 7\n"
     ]
    }
   ],
   "source": [
    "s2 = Solution2()\n",
    "print(\"result:\", s2.removeDuplicates([0, 0, 1, 1, 2, 2, 3, 3, 4, 4, 7, 9]))"
   ]
  },
  {
   "cell_type": "code",
   "execution_count": 89,
   "metadata": {},
   "outputs": [],
   "source": [
    "# 56ms (不带 删除的代码) 60 ms 带有删除的代码   del nums[pos:len(nums)]\n",
    "class Solution(object):\n",
    "    def removeDuplicates(self, nums):\n",
    "        \"\"\"\n",
    "        :type nums: List[int]\n",
    "        :rtype: int\n",
    "        \"\"\"\n",
    "        pos = 0\n",
    "        this_num = None\n",
    "        for num in nums:\n",
    "            if num != this_num:\n",
    "                nums[pos] = num\n",
    "                print(nums)\n",
    "                this_num = num\n",
    "                pos += 1\n",
    "        del nums[pos:len(nums)]\n",
    "        print(nums)\n",
    "        return pos"
   ]
  },
  {
   "cell_type": "code",
   "execution_count": 90,
   "metadata": {},
   "outputs": [
    {
     "name": "stdout",
     "output_type": "stream",
     "text": [
      "[0, 0, 1, 1, 2, 2, 3, 3, 4, 4, 7, 9]\n",
      "[0, 1, 1, 1, 2, 2, 3, 3, 4, 4, 7, 9]\n",
      "[0, 1, 2, 1, 2, 2, 3, 3, 4, 4, 7, 9]\n",
      "[0, 1, 2, 3, 2, 2, 3, 3, 4, 4, 7, 9]\n",
      "[0, 1, 2, 3, 4, 2, 3, 3, 4, 4, 7, 9]\n",
      "[0, 1, 2, 3, 4, 7, 3, 3, 4, 4, 7, 9]\n",
      "[0, 1, 2, 3, 4, 7, 9, 3, 4, 4, 7, 9]\n",
      "[0, 1, 2, 3, 4, 7, 9]\n",
      "result: 7\n"
     ]
    }
   ],
   "source": [
    "s2 = Solution()\n",
    "print(\"result:\", s2.removeDuplicates([0, 0, 1, 1, 2, 2, 3, 3, 4, 4, 7, 9]))"
   ]
  },
  {
   "cell_type": "markdown",
   "metadata": {},
   "source": [
    "**总结：**\n",
    "\n",
    "1. 法 1 和法 2 对比，明显 法 2 更快\n",
    "2. 法 1 是两两对比，会将同一个数，跟其他的数多次对比判断\n",
    "3. 法 2 用的则是，先找出来所有不相同的数，将不同的数赋值到最前面，最终能得到，所有唯一的数都排列在最前面，中间舍弃了一些相同的数，后面相同的数，最后也会被提取或删掉\n",
    "\n",
    "---\n",
    "\n",
    "# 121. 买卖股票的最佳时机 (Easy)\n",
    "\n",
    "## 题目描述\n",
    "\n",
    "给定一个数组，它的第 i 个元素是一支给定股票第 i 天的价格。\n",
    "\n",
    "如果你最多只允许完成一笔交易（即买入和卖出一支股票），设计一个算法来计算你所能获取的最大利润。\n",
    "\n",
    "注意你不能在买入股票前卖出股票。\n",
    "\n",
    "**示例 1:**\n",
    "\n",
    "```\n",
    "输入: [7,1,5,3,6,4]\n",
    "输出: 5\n",
    "解释: 在第 2 天（股票价格 = 1）的时候买入，在第 5 天（股票价格 = 6）的时候卖出，最大利润 = 6-1 = 5 。\n",
    "     注意利润不能是 7-1 = 6, 因为卖出价格需要大于买入价格。\n",
    "```    \n",
    "**示例 2:**\n",
    "\n",
    "```\n",
    "输入: [7,6,4,3,1]\n",
    "输出: 0\n",
    "解释: 在这种情况下, 没有交易完成, 所以最大利润为 0。\n",
    "```\n",
    "**思路：**\n",
    "\n",
    "1. 先找到最小值，然后再找最小值后面的最大值\n",
    "2. 第 2 小值，以及第 2 小值后面的最大值 如：`[2, 9, 1, 3]`\n",
    "3. 也就是所有小值，以及后面最大值 之间的差值，再比较哪个更大\n",
    "4. 双指针遍历所有情况，选择最大利润。时间复杂度 $O(n^2)$ \n",
    "\n",
    "**方法一：**"
   ]
  },
  {
   "cell_type": "code",
   "execution_count": 75,
   "metadata": {},
   "outputs": [],
   "source": [
    "# 非常蠢的方法，没有通过测试用例\n",
    "class Solution3(object):\n",
    "    \"\"\"\n",
    "    @param prices: Given an integer array\n",
    "    @return: Maximum profit\n",
    "    \"\"\"\n",
    "    def maxProfit(self, prices):\n",
    "        # write your code here\n",
    "        result = 0\n",
    "        for i in range(len(prices)-1):\n",
    "            for j in range(i+1, len(prices)):\n",
    "                print(\"i=%d, j=%d\"%(i,j))\n",
    "                result = max(result, prices[j] - prices[i])\n",
    "                print(result)\n",
    "        return result           "
   ]
  },
  {
   "cell_type": "code",
   "execution_count": 76,
   "metadata": {},
   "outputs": [
    {
     "name": "stdout",
     "output_type": "stream",
     "text": [
      "i=0, j=1\n",
      "0\n",
      "i=0, j=2\n",
      "0\n",
      "i=0, j=3\n",
      "0\n",
      "i=0, j=4\n",
      "0\n",
      "i=1, j=2\n",
      "0\n",
      "i=1, j=3\n",
      "0\n",
      "i=1, j=4\n",
      "0\n",
      "i=2, j=3\n",
      "0\n",
      "i=2, j=4\n",
      "0\n",
      "i=3, j=4\n",
      "0\n",
      "0\n"
     ]
    }
   ],
   "source": [
    "s = Solution3()\n",
    "print(s.maxProfit([7,6,4,3,1]))"
   ]
  },
  {
   "cell_type": "markdown",
   "metadata": {},
   "source": [
    "方法一 在 LeetCode 上没通过 199 / 200 个通过测试用例\n",
    "\n",
    "最后执行的输入：\n",
    " `[10000,9999,9998,9997,9996,9995,9994,9993,9992,9991,9990,9989,9988,9....]`\n",
    " \n",
    "超出时间限制 \n",
    "\n",
    "\n",
    "**方法二：**\n",
    "\n",
    "动态规划：选取最小的价格购买，保留最大的利润。只需一次遍历。时间复杂度$O(n)$ \n",
    "\n",
    "**思路：**"
   ]
  },
  {
   "cell_type": "code",
   "execution_count": 77,
   "metadata": {},
   "outputs": [],
   "source": [
    "# 73.33% 40 ms\n",
    "class Solution(object):\n",
    "    \"\"\"\n",
    "    @param prices: Given an integer array\n",
    "    @return: Maximum profit\n",
    "    \"\"\"\n",
    "    def maxProfit(self, prices):\n",
    "        # write your code here\n",
    "        # if len(prices) < 2:return 0\n",
    "        if prices is None or len(prices) == 0:\n",
    "            return 0\n",
    "        begin_value = princes[0]\n",
    "        result = 0\n",
    "        for p in prices:\n",
    "            result = max(result, p- begin_value)\n",
    "            begin_value = min(begin_value, p)\n",
    "        return result    \n",
    "        "
   ]
  },
  {
   "cell_type": "code",
   "execution_count": 78,
   "metadata": {},
   "outputs": [
    {
     "name": "stdout",
     "output_type": "stream",
     "text": [
      "i=0, j=1\n",
      "0\n",
      "i=0, j=2\n",
      "0\n",
      "i=0, j=3\n",
      "0\n",
      "i=0, j=4\n",
      "0\n",
      "i=1, j=2\n",
      "0\n",
      "i=1, j=3\n",
      "0\n",
      "i=1, j=4\n",
      "0\n",
      "i=2, j=3\n",
      "0\n",
      "i=2, j=4\n",
      "0\n",
      "i=3, j=4\n",
      "0\n",
      "0\n"
     ]
    }
   ],
   "source": [
    "s = Solution3()\n",
    "print(s.maxProfit([7,6,4,3,1]))"
   ]
  },
  {
   "cell_type": "markdown",
   "metadata": {},
   "source": [
    " **方法三：**"
   ]
  },
  {
   "cell_type": "code",
   "execution_count": null,
   "metadata": {},
   "outputs": [],
   "source": [
    "# 32ms\n",
    "class Solution(object):\n",
    "    def maxProfit(self, prices):\n",
    "        \"\"\"\n",
    "        :type prices: List[int]\n",
    "        :rtype: int\n",
    "        \"\"\"\n",
    "        \n",
    "        if not prices:\n",
    "            return 0\n",
    "        \n",
    "        revenue = 0\n",
    "        \n",
    "        prev = float('inf')\n",
    "        \n",
    "        for price in prices:\n",
    "            if price < prev:\n",
    "                prev = price\n",
    "            else:\n",
    "                revenue = max(price - prev, revenue)\n",
    "\n",
    "        return revenue"
   ]
  },
  {
   "cell_type": "markdown",
   "metadata": {},
   "source": [
    "Python 中可以用如下方式表示正负无穷：\n",
    "\n",
    "`float(\"inf\"), float(\"-inf\")`\n",
    "\n",
    "**方法四：**"
   ]
  },
  {
   "cell_type": "code",
   "execution_count": null,
   "metadata": {},
   "outputs": [],
   "source": [
    "# 28ms\n",
    "class Solution(object):\n",
    "    def maxProfit(self, prices):\n",
    "        \"\"\"\n",
    "        :type prices: List[int]\n",
    "        :rtype: int\n",
    "        \"\"\"\n",
    "        if not prices or len(prices) <= 1:\n",
    "            return 0\n",
    "\n",
    "        minBuy = prices[0]\n",
    "        max_profit = 0\n",
    "        for p in prices[1:]:\n",
    "            if p < minBuy:\n",
    "                minBuy = p\n",
    "            if p - minBuy > max_profit:\n",
    "                max_profit = p - minBuy\n",
    "\n",
    "        return max_profit"
   ]
  },
  {
   "cell_type": "markdown",
   "metadata": {},
   "source": [
    "---\n",
    "# 122. 买卖股票的最佳时机 II (Easy)\n",
    "\n",
    "## 题目描述\n",
    "\n",
    "给定一个数组，它的第 i 个元素是一支给定股票第 i 天的价格。\n",
    "\n",
    "设计一个算法来计算你所能获取的最大利润。你可以尽可能地完成更多的交易（多次买卖一支股票）。\n",
    "\n",
    "注意：你不能同时参与多笔交易（你必须在再次购买前出售掉之前的股票）。\n",
    "\n",
    "返回的是最大盈利的数字。\n",
    "\n",
    "**示例 1:**\n",
    "\n",
    "```\n",
    "输入: [7,1,5,3,6,4]\n",
    "输出: 7\n",
    "解释: 在第 2 天（股票价格 = 1）的时候买入，在第 3 天（股票价格 = 5）的时候卖出, 这笔交易所能获得利润 = 5-1 = 4 。\n",
    "     随后，在第 4 天（股票价格 = 3）的时候买入，在第 5 天（股票价格 = 6）的时候卖出, 这笔交易所能获得利润 = 6-3 = 3 。\n",
    "```    \n",
    "**示例 2:**\n",
    "\n",
    "```\n",
    "输入: [1,2,3,4,5]\n",
    "输出: 4\n",
    "解释: 在第 1 天（股票价格 = 1）的时候买入，在第 5 天 （股票价格 = 5）的时候卖出, 这笔交易所能获得利润 = 5-1 = 4 。\n",
    "     注意你不能在第 1 天和第 2 天接连购买股票，之后再将它们卖出。\n",
    "     因为这样属于同时参与了多笔交易，你必须在再次购买前出售掉之前的股票。\n",
    "``` \n",
    "\n",
    "**示例 3:**\n",
    "\n",
    "```\n",
    "输入: [7,6,4,3,1]\n",
    "输出: 0\n",
    "解释: 在这种情况下, 没有交易完成, 所以最大利润为 0。\n",
    "```"
   ]
  },
  {
   "cell_type": "code",
   "execution_count": 95,
   "metadata": {},
   "outputs": [],
   "source": [
    "# 36ms\n",
    "class Solution(object):\n",
    "    def maxProfit(self, prices):\n",
    "        \"\"\"\n",
    "        :type prices: List[int]\n",
    "        :rtype: int\n",
    "        \"\"\"\n",
    "        if prices is None or len(prices) < 2:\n",
    "            return 0\n",
    "        result = 0\n",
    "        Begin_value = prices[0]\n",
    "        for p in prices:\n",
    "            # 越复杂的问题，越要用简单的方式去思考\n",
    "            # 只要后面的值大于前面的值 就卖出，并重新买入\n",
    "            if p > Begin_value:\n",
    "                result += p-Begin_value  #涨股利润累加\n",
    "                Begin_value = p          #重新买股\n",
    "            else:\n",
    "                # 若后面的值，小于前面的值，则重新设置最小值                \n",
    "                Begin_value = min(Begin_value, p)\n",
    "        return result"
   ]
  },
  {
   "cell_type": "code",
   "execution_count": 96,
   "metadata": {},
   "outputs": [
    {
     "name": "stdout",
     "output_type": "stream",
     "text": [
      "7\n"
     ]
    }
   ],
   "source": [
    "s = Solution()\n",
    "print(s.maxProfit([7,1,5,3,6,4]))"
   ]
  },
  {
   "cell_type": "code",
   "execution_count": null,
   "metadata": {},
   "outputs": [],
   "source": [
    "# 32ms\n",
    "class Solution(object):\n",
    "    def maxProfit(self, prices):\n",
    "        \"\"\"\n",
    "        :type prices: List[int]\n",
    "        :rtype: int\n",
    "        \"\"\"\n",
    "        n = len(prices)\n",
    "        profit = 0\n",
    "        for i in range(n - 1):\n",
    "            if prices[i + 1] - prices[i] >= 0:\n",
    "                profit += prices[i + 1] - prices[i]\n",
    "        return profit"
   ]
  },
  {
   "cell_type": "code",
   "execution_count": null,
   "metadata": {},
   "outputs": [],
   "source": [
    "# 28ms\n",
    "class Solution(object):\n",
    "    def maxProfit(self, prices):\n",
    "        \"\"\"\n",
    "        :type prices: List[int]\n",
    "        :rtype: int\n",
    "        \"\"\"\n",
    "        profit = 0\n",
    "        for index in xrange(1, len(prices)):\n",
    "            if prices[index] > prices[index - 1]:\n",
    "                profit += prices[index] - prices[index - 1]\n",
    "        return profit"
   ]
  },
  {
   "cell_type": "markdown",
   "metadata": {},
   "source": [
    "xrange 用法与 range 完全相同，所不同的是生成的不是一个 list对象，而是一个生成器。\n",
    "```\n",
    ">>> xrange(5)\n",
    "xrange(5)\n",
    ">>> list(xrange(5))\n",
    "[0, 1, 2, 3, 4]\n",
    ">>> xrange(1,5)\n",
    "xrange(1, 5)\n",
    ">>> list(xrange(1,5))\n",
    "[1, 2, 3, 4]\n",
    ">>> xrange(0,6,2)\n",
    "xrange(0, 6, 2)\n",
    ">>> list(xrange(0,6,2))\n",
    "[0, 2, 4]\n",
    "```\n"
   ]
  },
  {
   "cell_type": "markdown",
   "metadata": {},
   "source": [
    "---\n",
    "\n",
    "# 189. 旋转数组 (Easy)\n",
    "\n",
    "[旋转数组](https://leetcode-cn.com/explore/interview/card/top-interview-questions-easy/1/array/23/)\n",
    "\n",
    "参考文章:[LeetCode:Rotate Array ](http://bookshadow.com/weblog/2015/02/24/leetcode-rotate-array/)\n",
    "\n",
    "## 题目描述\n",
    "\n",
    "将包含 n 个元素的数组向右旋转 k 步。\n",
    "\n",
    "例如，如果  n = 7 ,  k = 3，给定数组  [1,2,3,4,5,6,7]  ，向右旋转后的结果为 [5,6,7,1,2,3,4]。\n",
    "\n",
    "**注意:**\n",
    "\n",
    "尽可能找到更多的解决方案，这里最少有三种不同的方法解决这个问题。\n",
    "\n",
    "**提示:**\n",
    "\n",
    "要求空间复杂度为 O(1)\n",
    "\n",
    "关联的问题: 反转字符串中的单词 II\n",
    "\n",
    "致谢:\n",
    "特别感谢 @Freezen 添加此问题并创建所有测试用例。\n",
    " \n",
    "**方法一 ：** \n",
    "\n",
    "时间复杂度O（n），空间复杂度O(1) \n",
    "\n",
    "思路：将数组元素依次循环向右平移 k 个单位\n",
    "\n",
    "【目前理解这个方法还是很懵，脑袋清醒了 再回来看】"
   ]
  },
  {
   "cell_type": "code",
   "execution_count": 22,
   "metadata": {},
   "outputs": [],
   "source": [
    "# 方法一 时间复杂度O（n），空间复杂度O(1) \n",
    "class Solution(object):\n",
    "    def rotate(self, nums, k):\n",
    "        \"\"\"\n",
    "        :type nums: List[int]\n",
    "        :type k: int\n",
    "        :rtype: void Do not return anything, modify nums in-place instead.\n",
    "        \"\"\"\n",
    "        n = len(nums)\n",
    "        idx = 0\n",
    "        distance = 0\n",
    "        cur = nums[0]\n",
    "        for x in range(n):\n",
    "            # 取 % 这个操作 正好可以找到 当前索引位置的数要被转换到的位置            \n",
    "            idx = (idx + k) % n\n",
    "            print('idx', idx)\n",
    "            # 两个数互换             \n",
    "            nums[idx], cur = cur, nums[idx]\n",
    "            # cur 存储当前被换出来的数             \n",
    "            print('cur',cur)\n",
    "            \n",
    "            # cur 3 6 2 5 1 4             \n",
    "            \n",
    "            distance = (distance + k) % n\n",
    "            # =0 代表恰好可以整除             \n",
    "            if distance == 0:\n",
    "                idx = (idx + 1) % n\n",
    "                cur = nums[idx]\n",
    "            print('nums2',nums) \n",
    "                    "
   ]
  },
  {
   "cell_type": "code",
   "execution_count": 23,
   "metadata": {},
   "outputs": [
    {
     "name": "stdout",
     "output_type": "stream",
     "text": [
      "idx 3\n",
      "cur 4\n",
      "nums2 [1, 2, 3, 1, 5, 6, 7]\n",
      "idx 6\n",
      "cur 7\n",
      "nums2 [1, 2, 3, 1, 5, 6, 4]\n",
      "idx 2\n",
      "cur 3\n",
      "nums2 [1, 2, 7, 1, 5, 6, 4]\n",
      "idx 5\n",
      "cur 6\n",
      "nums2 [1, 2, 7, 1, 5, 3, 4]\n",
      "idx 1\n",
      "cur 2\n",
      "nums2 [1, 6, 7, 1, 5, 3, 4]\n",
      "idx 4\n",
      "cur 5\n",
      "nums2 [1, 6, 7, 1, 2, 3, 4]\n",
      "idx 0\n",
      "cur 1\n",
      "nums2 [5, 6, 7, 1, 2, 3, 4]\n",
      "None\n"
     ]
    }
   ],
   "source": [
    "s = Solution()\n",
    "print(s.rotate([1,2,3,4,5,6,7],3))"
   ]
  },
  {
   "cell_type": "markdown",
   "metadata": {},
   "source": [
    "**方法二：** \n",
    "\n",
    "时间复杂度 O（n），空间复杂度O(1) \n",
    "\n",
    "思路： 以 n - k 为界，分别对数组的左右两边执行一次逆置；然后对整个数组执行逆置。"
   ]
  },
  {
   "cell_type": "code",
   "execution_count": 24,
   "metadata": {},
   "outputs": [],
   "source": [
    "# 方法二 时间复杂度O（n），空间复杂度O(1) \n",
    "class Solution(object):\n",
    "    # @param nums, a list of integer\n",
    "    # @param k, num of steps\n",
    "    # @return nothing, please modify the nums list in-place.\n",
    "    def rotate(self, nums, k):\n",
    "        n = len(nums)\n",
    "        k %= n\n",
    "        self.reverse(nums, 0, n - k)\n",
    "        self.reverse(nums, n - k, n)\n",
    "        self.reverse(nums, 0, n)\n",
    "        print(nums)\n",
    "\n",
    "    def reverse(self, nums, start, end):\n",
    "        for x in range(start, int((start + end) / 2)):\n",
    "            nums[x] ^= nums[start + end - x - 1]\n",
    "            nums[start + end - x - 1] ^= nums[x]\n",
    "            nums[x] ^= nums[start + end - x - 1]"
   ]
  },
  {
   "cell_type": "code",
   "execution_count": 27,
   "metadata": {},
   "outputs": [
    {
     "name": "stdout",
     "output_type": "stream",
     "text": [
      "[5, 6, 7, 1, 2, 3, 4]\n",
      "None\n"
     ]
    }
   ],
   "source": [
    "s = Solution()\n",
    "print(s.rotate([1,2,3,4,5,6,7],3))"
   ]
  },
  {
   "cell_type": "markdown",
   "metadata": {},
   "source": [
    "实现两个数交换：\n",
    "\n",
    "a ^= b\n",
    "b ^= a\n",
    "a ^= b"
   ]
  },
  {
   "cell_type": "code",
   "execution_count": null,
   "metadata": {},
   "outputs": [],
   "source": [
    "class Solution(object):\n",
    "    def rotate(self, nums, k):\n",
    "        \"\"\"\n",
    "        :type nums: List[int]\n",
    "        :type k: int\n",
    "        :rtype: void Do not return anything, modify nums in-place instead.\n",
    "        \"\"\"\n",
    "        length = len(nums) \n",
    "        if k==0:\n",
    "            return\n",
    "        if(k<length):\n",
    "            nums[0:k], nums[k:length] = nums[length-k:length], nums[0:length-k]\n",
    "        elif(k>length):\n",
    "            k = k - length\n",
    "            nums[0:k], nums[k:length] = nums[length-k:length], nums[0:length-k]\n",
    "        "
   ]
  },
  {
   "cell_type": "code",
   "execution_count": null,
   "metadata": {},
   "outputs": [],
   "source": [
    "class Solution(object):\n",
    "    def rotate(self, nums, k):\n",
    "        \"\"\"\n",
    "        :type nums: List[int]\n",
    "        :type k: int\n",
    "        :rtype: void Do not return anything, modify nums in-place instead.\n",
    "        \"\"\"\n",
    "        # 直接将 需要旋转的 k 个放到前面，前面的放到后面\n",
    "        #  如：nums[4:] 从索引 4 开始一直到最后一个\n",
    "        # nums[:4] 从 0 开始一直到 索引4 不包含 索引4  的值\n",
    "        nums[:] = nums[len(nums)-k:] + nums[:len(nums)-k]"
   ]
  },
  {
   "cell_type": "markdown",
   "metadata": {},
   "source": [
    "# 217.存在重复(Easy)\n",
    "\n",
    "## 题目描述\n",
    "\n",
    "给定一个整数数组，判断是否存在重复元素。\n",
    "\n",
    "如果任何值在数组中出现至少两次，函数应该返回 true。如果每个元素都不相同，则返回 false。"
   ]
  },
  {
   "cell_type": "code",
   "execution_count": null,
   "metadata": {},
   "outputs": [],
   "source": [
    "# 不解释了\n",
    "class Solution(object):\n",
    "    def containsDuplicate(self, nums):\n",
    "        \"\"\"\n",
    "        :type nums: List[int]\n",
    "        :rtype: bool\n",
    "        \"\"\"\n",
    "        return len(set(nums)) != len(nums)"
   ]
  },
  {
   "cell_type": "markdown",
   "metadata": {},
   "source": [
    "# 136. 只出现一次的数字(Easy)\n",
    "\n",
    "## 题目描述\n",
    "\n",
    "给定一个非空整数数组，除了某个元素只出现一次以外，其余每个元素均出现两次。找出那个只出现了一次的元素。\n",
    "\n",
    "**说明：**\n",
    "\n",
    "你的算法应该具有线性时间复杂度。 你可以不使用额外空间来实现吗？\n",
    "\n",
    "**示例 1:**\n",
    "```\n",
    "输入: [2,2,1]\n",
    "输出: 1\n",
    "```\n",
    "**示例 2:**\n",
    "```\n",
    "输入: [4,1,2,1,2]\n",
    "输出: 4\n",
    "```\n",
    "思路： \n",
    "1. 我的想法很蠢，不说了\n",
    "\n",
    "参考：\n",
    "\n",
    "[Leetcode解题思路总结(Medium)](https://blog.csdn.net/luoshengkim/article/details/50668684)\n",
    "\n",
    "[LeetCode: Single Number解题思路](http://www.powerxing.com/leetcode-single-number/)\n",
    "\n",
    "`a^a=0, a^0=a`，根据交换律`a^b=b^a`，比如`3^4^3=4`，根据异或操作的这种性质，我们可以将所有元素依次做异或操作，相同元素异或为 0，最终剩下的元素就为 Single Number。\n",
    "\n",
    "因为`A XOR A = 0`，且`XOR`运算是可交换的，于是，对于实例`{2,1,4,5,2,4,1}`就会有这样的结果：\n",
    "\n",
    "`(2^1^4^5^2^4^1) => ((2^2)^(1^1)^(4^4)^(5)) => (0^0^0^5) => 5`\n",
    "\n",
    "就把只出现了一次的元素(其余元素均出现两次)给找出来了！"
   ]
  },
  {
   "cell_type": "code",
   "execution_count": 59,
   "metadata": {},
   "outputs": [],
   "source": [
    "class Solution(object):\n",
    "    def singleNumber(self, nums):\n",
    "        \"\"\"\n",
    "        :type nums: List[int]\n",
    "        :rtype: int\n",
    "        \"\"\"\n",
    "        temp = 0\n",
    "        for item in nums:\n",
    "            temp ^= item\n",
    "            print(temp)\n",
    "\n",
    "        return temp\n",
    "                \n"
   ]
  },
  {
   "cell_type": "code",
   "execution_count": 60,
   "metadata": {},
   "outputs": [
    {
     "name": "stdout",
     "output_type": "stream",
     "text": [
      "4\n",
      "5\n",
      "7\n",
      "6\n",
      "4\n",
      "4\n"
     ]
    }
   ],
   "source": [
    "s = Solution()\n",
    "print(s.singleNumber([4,1,2,1,2]))"
   ]
  },
  {
   "cell_type": "markdown",
   "metadata": {},
   "source": [
    "```c++\n",
    "class Solution {\n",
    "public:\n",
    "    int singleNumber(vector<int>& nums) {\n",
    "     int count=0;\n",
    "     for(int i=0;i<nums.size();i++){\n",
    "         count^=nums[i];\n",
    "      }\n",
    "     return count;\n",
    "}    \n",
    "};\n",
    "\n",
    "```\n",
    "\n",
    "`^`按位异或运算符：当对应的二进位相异(不同)时，结果为 1 （不同为 1，相同为 0）\t\n",
    "\n",
    "(a ^ b) 输出结果 49 ，二进制解释： 0011 0001"
   ]
  },
  {
   "cell_type": "code",
   "execution_count": 64,
   "metadata": {},
   "outputs": [
    {
     "data": {
      "text/plain": [
       "49"
      ]
     },
     "execution_count": 64,
     "metadata": {},
     "output_type": "execute_result"
    }
   ],
   "source": [
    "a = 60 # 0011 1100\n",
    "\n",
    "b = 13 # 0000 1101 \n",
    "\n",
    "a ^ b  # 0011 0001"
   ]
  },
  {
   "cell_type": "markdown",
   "metadata": {},
   "source": [
    "---\n",
    "\n",
    "# 350. 两个数组的交集 II (Easy)\n",
    "\n",
    "## 题目描述\n",
    "\n",
    "给定两个数组，写一个方法来计算它们的交集。\n",
    "\n",
    "**例如:**\n",
    "\n",
    "给定 nums1 = [1, 2, 2, 1], nums2 = [2, 2], 返回 [2, 2].\n",
    "\n",
    "**注意：**\n",
    "\n",
    "   输出结果中每个元素出现的次数，应与元素在两个数组中出现的次数一致。\n",
    "   (只跟次数有关，跟顺序无关)\n",
    "\n",
    "   我们可以不考虑输出结果的顺序。\n",
    "   \n",
    "   例： nums1 = [3,3,3,3,3,3,1,1], nums2 = [1,3,3,3,2,1] 答案：` [3,3,3,1,1]` `[1,3,3,3,1]` 两个都对，跟顺序无关\n",
    "\n",
    "\n",
    "**跟进:**\n",
    "\n",
    "1. 如果给定的数组已经排好序呢？你将如何优化你的算法？\n",
    "2. 如果 nums1 的大小比 nums2 小很多，哪种方法更优？\n",
    "3. 如果 nums2 的元素存储在磁盘上，内存是有限的，你不能一次加载所有的元素到内存中，你该怎么办？\n",
    "\n"
   ]
  },
  {
   "cell_type": "code",
   "execution_count": 6,
   "metadata": {},
   "outputs": [],
   "source": [
    "class Solution(object):\n",
    "    def intersect(self, nums1, nums2):\n",
    "        \"\"\"\n",
    "        :type nums1: List[int]\n",
    "        :type nums2: List[int]\n",
    "        :rtype: List[int]\n",
    "        \"\"\"\n",
    "        # 用来存储出现的 数字，以及与之对应的次数         \n",
    "        nums_map = {}\n",
    "        for i in nums2:\n",
    "            if i in nums_map:\n",
    "                nums_map[i] += 1\n",
    "            else:\n",
    "                nums_map[i] = 1\n",
    "        # 存储 要返回的list 结果，与顺序无关\n",
    "        print('nums_map',nums_map)\n",
    "        res = []\n",
    "        for i in nums1:\n",
    "            if i in nums_map and nums_map[i] > 0:\n",
    "                res += [i]\n",
    "                print(res)\n",
    "                # 前面的 字典中，有其中一个 nums 中元素出现的次数的统计，\n",
    "                # 当遍历第二个的时候，每向 list 中添加一个 字典中统计的次数就减少一个\n",
    "                nums_map[i] -= 1\n",
    "                print('nums_map_final:',nums_map)\n",
    "        return res\n",
    "        "
   ]
  },
  {
   "cell_type": "code",
   "execution_count": 7,
   "metadata": {},
   "outputs": [
    {
     "name": "stdout",
     "output_type": "stream",
     "text": [
      "nums_map {3: 3, 1: 2}\n",
      "[1]\n",
      "nums_map_final: {3: 3, 1: 1}\n",
      "[1, 3]\n",
      "nums_map_final: {3: 2, 1: 1}\n",
      "[1, 3, 3]\n",
      "nums_map_final: {3: 1, 1: 1}\n",
      "[1, 3, 3, 3]\n",
      "nums_map_final: {3: 0, 1: 1}\n",
      "[1, 3, 3, 3, 1]\n",
      "nums_map_final: {3: 0, 1: 0}\n",
      "result: [1, 3, 3, 3, 1]\n"
     ]
    }
   ],
   "source": [
    "s = Solution()\n",
    "print('result:',s.intersect([1,3,3,3,3,3,3,3,3,3,3,3,2,1],[3,3,3,1,1]))"
   ]
  },
  {
   "cell_type": "code",
   "execution_count": null,
   "metadata": {},
   "outputs": [],
   "source": [
    "class Solution(object):\n",
    "    def intersect(self, nums1, nums2):\n",
    "        \"\"\"\n",
    "        :type nums1: List[int]\n",
    "        :type nums2: List[int]\n",
    "        :rtype: List[int]\n",
    "        \"\"\"\n",
    "        m = {}\n",
    "        for x in nums1:\n",
    "            if m.has_key(x):\n",
    "                m[x] += 1\n",
    "            else:\n",
    "                m[x] = 1\n",
    "        \n",
    "        res = []\n",
    "        for x in nums2:\n",
    "            if m.has_key(x) and m[x] > 0:    \n",
    "                res.append(x)\n",
    "                m[x] -= 1\n",
    "        return res"
   ]
  },
  {
   "cell_type": "markdown",
   "metadata": {},
   "source": [
    "# 66. 加一 (Easy)\n",
    "\n",
    "## 题目描述\n",
    "\n",
    "给定一个非负整数组成的非空数组，在该数的基础上加一，返回一个新的数组。\n",
    "\n",
    "最高位数字存放在数组的首位， 数组中每个元素只存储一个数字。\n",
    "\n",
    "你可以假设除了整数 0 之外，这个整数不会以零开头。\n",
    "\n",
    "**示例 1:**\n",
    "\n",
    "```\n",
    "输入: [1,2,3]\n",
    "输出: [1,2,4]\n",
    "解释: 输入数组表示数字 123。\n",
    "```\n",
    "**示例 2:**\n",
    "\n",
    "```\n",
    "输入: [4,3,2,1]\n",
    "输出: [4,3,2,2]\n",
    "解释: 输入数组表示数字 4321。\n",
    "```\n",
    "理解 & 思路：\n",
    "\n",
    "[LeetCode 66. Plus One（加1）](https://www.cnblogs.com/jimmycheng/p/7223474.html)\n",
    "[LeetCode 66](https://blog.csdn.net/zr1076311296/article/details/51705280)\n",
    "\n",
    "这道题目给了我们一个 digits 的 array， 这个 array 等于一个数字，让我们加 1。\n",
    "\n",
    "来分析一下，如果是不需要进位的 < 9 ， 那么直接加 1 就返回。\n",
    "\n",
    "如果是需要进位的，=9， 那么我们需要把目前的 digit 改为0，接着继续检查前一位，因为你不确定前一位加 1 是不是需要进位。\n",
    "\n",
    "一旦当我们找到不需要进位的那个 digit， 加 1 返回就可以了。\n",
    "\n",
    "如果碰到一种极端的情况，类似于 999 的话，那么我们 遍历完之后 是 000， 还需要一个1 ，所以要重新建立一个array， size + 1，把 1 加在 [0] 的位置。\n",
    "\n",
    "一个非负数的内容从高位到低位(十进制位)依次放到数组的每一位，例如：123，存放到数组中就是[1,2,3]，现在将这个数加 1 ，返回加1后的结果，如[1,2,3]应该返回[1,2,4].\n"
   ]
  },
  {
   "cell_type": "code",
   "execution_count": 16,
   "metadata": {},
   "outputs": [],
   "source": [
    "class Solution(object):\n",
    "    def plusOne(self, digits):\n",
    "        \"\"\"\n",
    "        :type digits: List[int]\n",
    "        :rtype: List[int]\n",
    "        \"\"\"\n",
    "        carry = 1\n",
    "        # 倒序，从 数组的最后一位开始， 4， 3,2 1,0         \n",
    "        for i in range(len(digits))[::-1]:  \n",
    "            # 先对数字进行 加 1 操作\n",
    "            digits[i] += carry  \n",
    "            if digits[i] > 9:  \n",
    "                # digits[i] 原本 =9 , 加 1 后 大于 9 为 10 ，则需进一位。\n",
    "                # 则  digits[i] -10 变为 0\n",
    "                digits[i] -= 10  \n",
    "                carry = 1  \n",
    "            else:  \n",
    "                carry = 0  \n",
    "        # 这个针对于 都是 9999 这种情况 需要整个长度上 加 1 插入 索引 0 位  1                  \n",
    "        if carry > 0:  \n",
    "            print('digits:',digits)\n",
    "            digits.insert(0, 1)  \n",
    "        return digits  \n",
    "    "
   ]
  },
  {
   "cell_type": "code",
   "execution_count": 20,
   "metadata": {},
   "outputs": [
    {
     "name": "stdout",
     "output_type": "stream",
     "text": [
      "digits: [0, 0, 0, 0, 0, 0]\n",
      "[1, 0, 0, 0, 0, 0, 0]\n"
     ]
    }
   ],
   "source": [
    "s = Solution()\n",
    "print(s.plusOne([9,9,9,9,9,9]))"
   ]
  },
  {
   "cell_type": "code",
   "execution_count": 22,
   "metadata": {},
   "outputs": [
    {
     "name": "stdout",
     "output_type": "stream",
     "text": [
      "4\n",
      "3\n",
      "2\n",
      "1\n",
      "0\n",
      "[1, 9, 9, 9, 9]\n"
     ]
    }
   ],
   "source": [
    "for i in range(0,5)[::-1]:\n",
    "    print(i)\n",
    "    \n",
    "a = [9,9,9,9]    \n",
    "\n",
    "a.insert(0,1)\n",
    "print(a)"
   ]
  },
  {
   "cell_type": "code",
   "execution_count": null,
   "metadata": {},
   "outputs": [],
   "source": [
    "class Solution(object):\n",
    "    def plusOne(self, digits):\n",
    "        \"\"\"\n",
    "        :type digits: List[int]\n",
    "        :rtype: List[int]\n",
    "        \"\"\"\n",
    "        cur =1\n",
    "        a=len(digits)\n",
    "        for i in range(a):  \n",
    "            # 用来实现倒数 a-1-i  4， 3,2,1             \n",
    "            if digits[a-1-i]+cur>9:\n",
    "                digits[a-1-i]=0\n",
    "                cur=1\n",
    "            else:\n",
    "                digits[a-1-i]+=cur \n",
    "                cur=0\n",
    "        if cur==1:\n",
    "            digits.insert(0,1)\n",
    "              \n",
    "        return digits\n",
    "        "
   ]
  },
  {
   "cell_type": "code",
   "execution_count": null,
   "metadata": {},
   "outputs": [],
   "source": [
    "class Solution(object):\n",
    "    def plusOne(self, digits):\n",
    "        \"\"\"\n",
    "        :type digits: List[int]\n",
    "        :rtype: List[int]\n",
    "        \"\"\"\n",
    "        # 先把 list 转化成字符串，再转成 int 类型 进行 加 1 操作，\n",
    "        # 之后再循环遍历转成 list\n",
    "        tmp = ''\n",
    "        for i in digits:\n",
    "            tmp += str(i)\n",
    "        tmp = int(tmp) + 1\n",
    "        digits = [int(i) for i in list(str(tmp))]\n",
    "        #  return [int(i) for i in str(tmp)]\n",
    "        return digits"
   ]
  },
  {
   "cell_type": "markdown",
   "metadata": {},
   "source": [
    "# 283. 移动零 (Easy)\n",
    "\n",
    "## 题目描述\n",
    "\n",
    "给定一个数组 nums, 编写一个函数将所有 0 移动到它的末尾，同时保持非零元素的相对顺序。\n",
    "\n",
    "例如， 定义 nums = [0, 1, 0, 3, 12]，调用函数之后， nums 应为 [1, 3, 12, 0, 0]。\n",
    "\n",
    "**注意事项:**\n",
    "\n",
    "1. 必须在原数组上操作，不要为一个新数组分配额外空间。\n",
    "2. 尽量减少操作总数。\n",
    "\n",
    "**思路：**\n",
    "\n",
    "1. 一开始的想法是，判断是 0 后，保持最前面的不动，把后面的前移，最后末尾再加 0 \n",
    "2. 然后测试用例，后面几个没有通过\n",
    "3. 看到别人的想法是 两两互换\n"
   ]
  },
  {
   "cell_type": "code",
   "execution_count": 50,
   "metadata": {},
   "outputs": [],
   "source": [
    "class Solution(object):\n",
    "    def moveZeroes(self, nums):\n",
    "        \"\"\"\n",
    "        :type nums: List[int]\n",
    "        :rtype: void Do not return anything, modify nums in-place instead.\n",
    "        \"\"\"\n",
    "\n",
    "        s = e = 0\n",
    "        while e < len(nums):\n",
    "            if nums[e]:\n",
    "                nums[s] = nums[e]\n",
    "                print('nums1:',nums)\n",
    "                s += 1\n",
    "            e += 1\n",
    "            \n",
    "        while s < len(nums):\n",
    "            nums[s] = 0\n",
    "            s += 1\n",
    "            print('s:',s)\n",
    "            print('nums2:',nums)     "
   ]
  },
  {
   "cell_type": "code",
   "execution_count": 51,
   "metadata": {},
   "outputs": [
    {
     "name": "stdout",
     "output_type": "stream",
     "text": [
      "nums1: [1, 0, 2, 3, 0, 0, 4, 0, 9]\n",
      "nums1: [1, 2, 2, 3, 0, 0, 4, 0, 9]\n",
      "nums1: [1, 2, 3, 3, 0, 0, 4, 0, 9]\n",
      "nums1: [1, 2, 3, 4, 0, 0, 4, 0, 9]\n",
      "nums1: [1, 2, 3, 4, 9, 0, 4, 0, 9]\n",
      "s: 6\n",
      "nums2: [1, 2, 3, 4, 9, 0, 4, 0, 9]\n",
      "s: 7\n",
      "nums2: [1, 2, 3, 4, 9, 0, 0, 0, 9]\n",
      "s: 8\n",
      "nums2: [1, 2, 3, 4, 9, 0, 0, 0, 9]\n",
      "s: 9\n",
      "nums2: [1, 2, 3, 4, 9, 0, 0, 0, 0]\n",
      "None\n"
     ]
    }
   ],
   "source": [
    "s = Solution()\n",
    "print(s.moveZeroes([1,0,2,3,0,0,4,0,9]))"
   ]
  },
  {
   "cell_type": "code",
   "execution_count": 43,
   "metadata": {},
   "outputs": [],
   "source": [
    "class Solution(object):\n",
    "    def moveZeroes(self, nums):\n",
    "        \"\"\"\n",
    "        :type nums: List[int]\n",
    "        :rtype: void Do not return anything, modify nums in-place instead.\n",
    "        \"\"\"\n",
    "        # point 记住的元素为 0 的索引位置 \n",
    "        point = 0\n",
    "        for i in range(len(nums)):\n",
    "            # 当前位置元素不为 0 的情况下，跟之前记录的索引为 0 的值交换\n",
    "            if nums[i]:\n",
    "                nums[point] , nums[i] = nums[i], nums[point]\n",
    "                point += 1\n",
    "            print(nums)\n",
    "            print(\"point:\",point)\n",
    "            print('i:',i,'\\n'+('-'*30))"
   ]
  },
  {
   "cell_type": "code",
   "execution_count": 44,
   "metadata": {},
   "outputs": [
    {
     "name": "stdout",
     "output_type": "stream",
     "text": [
      "[0, 1, 0, 2, 3, 0, 0, 4, 0, 9]\n",
      "point: 0\n",
      "i: 0 \n",
      "------------------------------\n",
      "nums[i] 1\n",
      "[1, 0, 0, 2, 3, 0, 0, 4, 0, 9]\n",
      "point: 1\n",
      "i: 1 \n",
      "------------------------------\n",
      "[1, 0, 0, 2, 3, 0, 0, 4, 0, 9]\n",
      "point: 1\n",
      "i: 2 \n",
      "------------------------------\n",
      "nums[i] 2\n",
      "[1, 2, 0, 0, 3, 0, 0, 4, 0, 9]\n",
      "point: 2\n",
      "i: 3 \n",
      "------------------------------\n",
      "nums[i] 3\n",
      "[1, 2, 3, 0, 0, 0, 0, 4, 0, 9]\n",
      "point: 3\n",
      "i: 4 \n",
      "------------------------------\n",
      "[1, 2, 3, 0, 0, 0, 0, 4, 0, 9]\n",
      "point: 3\n",
      "i: 5 \n",
      "------------------------------\n",
      "[1, 2, 3, 0, 0, 0, 0, 4, 0, 9]\n",
      "point: 3\n",
      "i: 6 \n",
      "------------------------------\n",
      "nums[i] 4\n",
      "[1, 2, 3, 4, 0, 0, 0, 0, 0, 9]\n",
      "point: 4\n",
      "i: 7 \n",
      "------------------------------\n",
      "[1, 2, 3, 4, 0, 0, 0, 0, 0, 9]\n",
      "point: 4\n",
      "i: 8 \n",
      "------------------------------\n",
      "nums[i] 9\n",
      "[1, 2, 3, 4, 9, 0, 0, 0, 0, 0]\n",
      "point: 5\n",
      "i: 9 \n",
      "------------------------------\n",
      "None\n"
     ]
    }
   ],
   "source": [
    "s = Solution()\n",
    "print(s.moveZeroes([0,1,0,2,3,0,0,4,0,9]))"
   ]
  },
  {
   "cell_type": "code",
   "execution_count": 54,
   "metadata": {},
   "outputs": [],
   "source": [
    "class Solution(object):\n",
    "    def moveZeroes(self, nums):\n",
    "        \"\"\"\n",
    "        :type nums: List[int]\n",
    "        :rtype: void Do not return anything, modify nums in-place instead.\n",
    "        \"\"\"\n",
    "        num=0\n",
    "        for i in range(len(nums)):\n",
    "            if nums[i]==0:\n",
    "                num+=1\n",
    "            else:\n",
    "                nums[i-num]=nums[i]\n",
    "            print('nums:',nums)    \n",
    "        aa=len(nums)\n",
    "        for j in range(num):\n",
    "            nums[aa-1-j]=0\n",
    "            print('nums1:',nums)    "
   ]
  },
  {
   "cell_type": "code",
   "execution_count": 55,
   "metadata": {},
   "outputs": [
    {
     "name": "stdout",
     "output_type": "stream",
     "text": [
      "nums: [1, 0, 2, 3, 0, 0, 4, 0, 9]\n",
      "nums: [1, 0, 2, 3, 0, 0, 4, 0, 9]\n",
      "nums: [1, 2, 2, 3, 0, 0, 4, 0, 9]\n",
      "nums: [1, 2, 3, 3, 0, 0, 4, 0, 9]\n",
      "nums: [1, 2, 3, 3, 0, 0, 4, 0, 9]\n",
      "nums: [1, 2, 3, 3, 0, 0, 4, 0, 9]\n",
      "nums: [1, 2, 3, 4, 0, 0, 4, 0, 9]\n",
      "nums: [1, 2, 3, 4, 0, 0, 4, 0, 9]\n",
      "nums: [1, 2, 3, 4, 9, 0, 4, 0, 9]\n",
      "nums1: [1, 2, 3, 4, 9, 0, 4, 0, 0]\n",
      "nums1: [1, 2, 3, 4, 9, 0, 4, 0, 0]\n",
      "nums1: [1, 2, 3, 4, 9, 0, 0, 0, 0]\n",
      "nums1: [1, 2, 3, 4, 9, 0, 0, 0, 0]\n",
      "None\n"
     ]
    }
   ],
   "source": [
    "s = Solution()\n",
    "print(s.moveZeroes([1,0,2,3,0,0,4,0,9]))"
   ]
  },
  {
   "cell_type": "markdown",
   "metadata": {},
   "source": [
    "# 36. 有效的数独 (Medium)\n",
    "\n",
    "## 题目描述\n",
    "\n",
    "判断一个 9x9 的数独是否有效。只需要根据以下规则，验证已经填入的数字是否有效即可。\n",
    "\n",
    "1. 数字 1-9 在每一行只能出现一次。\n",
    "2. 数字 1-9 在每一列只能出现一次。\n",
    "3. 数字 1-9 在每一个以粗实线分隔的 3x3 宫内只能出现一次。\n",
    "\n",
    "数独部分空格内已填入了数字，空白格用 '.' 表示。\n",
    "\n",
    "**示例 1:**\n",
    "\n",
    "输入:\n",
    "```\n",
    "[\n",
    "  [\"5\",\"3\",\".\",\".\",\"7\",\".\",\".\",\".\",\".\"],\n",
    "  [\"6\",\".\",\".\",\"1\",\"9\",\"5\",\".\",\".\",\".\"],\n",
    "  [\".\",\"9\",\"8\",\".\",\".\",\".\",\".\",\"6\",\".\"],\n",
    "  [\"8\",\".\",\".\",\".\",\"6\",\".\",\".\",\".\",\"3\"],\n",
    "  [\"4\",\".\",\".\",\"8\",\".\",\"3\",\".\",\".\",\"1\"],\n",
    "  [\"7\",\".\",\".\",\".\",\"2\",\".\",\".\",\".\",\"6\"],\n",
    "  [\".\",\"6\",\".\",\".\",\".\",\".\",\"2\",\"8\",\".\"],\n",
    "  [\".\",\".\",\".\",\"4\",\"1\",\"9\",\".\",\".\",\"5\"],\n",
    "  [\".\",\".\",\".\",\".\",\"8\",\".\",\".\",\"7\",\"9\"]\n",
    "]\n",
    "\n",
    "```\n",
    "输出: true\n",
    "\n",
    "**示例 2:**\n",
    "\n",
    "输入:\n",
    "\n",
    "```\n",
    "[\n",
    "  [\"8\",\"3\",\".\",\".\",\"7\",\".\",\".\",\".\",\".\"],\n",
    "  [\"6\",\".\",\".\",\"1\",\"9\",\"5\",\".\",\".\",\".\"],\n",
    "  [\".\",\"9\",\"8\",\".\",\".\",\".\",\".\",\"6\",\".\"],\n",
    "  [\"8\",\".\",\".\",\".\",\"6\",\".\",\".\",\".\",\"3\"],\n",
    "  [\"4\",\".\",\".\",\"8\",\".\",\"3\",\".\",\".\",\"1\"],\n",
    "  [\"7\",\".\",\".\",\".\",\"2\",\".\",\".\",\".\",\"6\"],\n",
    "  [\".\",\"6\",\".\",\".\",\".\",\".\",\"2\",\"8\",\".\"],\n",
    "  [\".\",\".\",\".\",\"4\",\"1\",\"9\",\".\",\".\",\"5\"],\n",
    "  [\".\",\".\",\".\",\".\",\"8\",\".\",\".\",\"7\",\"9\"]\n",
    "]\n",
    "```\n",
    "输出: false\n",
    "\n",
    "解释: 除了第一行的第一个数字从 5 改为 8 以外，空格内其他数字均与 示例1 相同。\n",
    "     但由于位于左上角的 3x3 宫内有两个 8 存在, 因此这个数独是无效的。\n",
    "\n",
    "**说明:**\n",
    "\n",
    "- 一个有效的数独（部分已被填充）不一定是可解的。\n",
    "- 只需要根据以上规则，验证已经填入的数字是否有效即可。\n",
    "- 给定数独序列只包含数字 1-9 和字符 '.' 。\n",
    "- 给定数独永远是 9x9 形式的。\n",
    "\n",
    "\n",
    "https://blog.csdn.net/coder_orz/article/details/51596499\n",
    "\n",
    "https://blog.csdn.net/yzp1011/article/details/79702496\n",
    "\n",
    "https://blog.csdn.net/coder_orz/article/details/51596499\n",
    "\n",
    "https://blog.csdn.net/runningtortoises/article/details/45830627\n",
    "\n",
    "https://www.cnblogs.com/zhuifengjingling/p/5277555.html\n",
    "\n",
    "思考：\n",
    "\n",
    "1. 我目前的想法还是很蠢，不说了\n",
    "2. 来自大神的思考，记录所有出现过的行、列、块的数字及相应位置，最后判断是否有重复。用 set 操作精简代码\n"
   ]
  },
  {
   "cell_type": "code",
   "execution_count": 21,
   "metadata": {},
   "outputs": [],
   "source": [
    "class Solution(object):\n",
    "    def isValidSudoku(self, board):\n",
    "        \"\"\"\n",
    "        :type board: List[List[str]]\n",
    "        :rtype: bool\n",
    "        \"\"\"\n",
    "        seen = []\n",
    "        for i, row in enumerate(board):\n",
    "#             print('i:',i, 'row:',row)\n",
    "            for j, c in enumerate(row):\n",
    "                if c != '.':\n",
    "                    # (c, j) 取出的是所有 每一行中\n",
    "                    seen += [(c, j),(i, c),(i/3, j/3, c)]\n",
    "                    \n",
    "#                     print('seen:\\n',seen,'\\n')       \n",
    "        return len(seen) == len(set(seen))"
   ]
  },
  {
   "cell_type": "code",
   "execution_count": 24,
   "metadata": {},
   "outputs": [
    {
     "name": "stdout",
     "output_type": "stream",
     "text": [
      "True\n"
     ]
    }
   ],
   "source": [
    "board = [[\"5\",\"3\",\".\",\".\",\"7\",\".\",\".\",\".\",\".\"],\n",
    "         [\"6\",\".\",\".\",\"1\",\"9\",\"5\",\".\",\".\",\".\"],\n",
    "         [\".\",\"9\",\"8\",\".\",\".\",\".\",\".\",\"6\",\".\"],\n",
    "         [\"8\",\".\",\".\",\".\",\"6\",\".\",\".\",\".\",\"3\"],\n",
    "         [\"4\",\".\",\".\",\"8\",\".\",\"3\",\".\",\".\",\"1\"],\n",
    "         [\"7\",\".\",\".\",\".\",\"2\",\".\",\".\",\".\",\"6\"],\n",
    "         [\".\",\"6\",\".\",\".\",\".\",\".\",\"2\",\"8\",\".\"],\n",
    "         [\".\",\".\",\".\",\"4\",\"1\",\"9\",\".\",\".\",\"5\"],\n",
    "         [\".\",\".\",\".\",\".\",\"8\",\".\",\".\",\"7\",\"9\"]]\n",
    "\n",
    "s = Solution()\n",
    "print(s.isValidSudoku(board))"
   ]
  },
  {
   "cell_type": "code",
   "execution_count": 23,
   "metadata": {},
   "outputs": [],
   "source": [
    "class Solution(object):\n",
    "    def isValidSudoku(self, board):\n",
    "        \"\"\"\n",
    "        :type board: List[List[str]]\n",
    "        :rtype: bool\n",
    "        \"\"\"\n",
    "        return (self.is_row_valid(board)) and (self.is_col_valid(board)) and (self.is_square_valid(board))\n",
    "    \n",
    "    def is_row_valid(self, board):\n",
    "        for row in board:\n",
    "            if not self.is_unit_valid(row):\n",
    "                return False\n",
    "        return True\n",
    "    \n",
    "    def is_col_valid(self, board):\n",
    "        for col in zip(*board):\n",
    "            if not self.is_unit_valid(col):\n",
    "                return False\n",
    "        return True\n",
    "    \n",
    "    def is_square_valid(self, board):\n",
    "        for i in (0, 3, 6):\n",
    "            for j in (0, 3, 6):\n",
    "                square = [board[x][y] for x in range(i, i + 3) for y in range(j, j + 3)]\n",
    "                if not self.is_unit_valid(square):\n",
    "                    return False\n",
    "        return True\n",
    "    \n",
    "    def is_unit_valid(self, unit):\n",
    "        unit = [i for i in unit if i != '.']\n",
    "        return len(set(unit)) == len(unit)"
   ]
  },
  {
   "cell_type": "code",
   "execution_count": null,
   "metadata": {},
   "outputs": [],
   "source": []
  }
 ],
 "metadata": {
  "kernelspec": {
   "display_name": "Python 3",
   "language": "python",
   "name": "python3"
  },
  "language_info": {
   "codemirror_mode": {
    "name": "ipython",
    "version": 3
   },
   "file_extension": ".py",
   "mimetype": "text/x-python",
   "name": "python",
   "nbconvert_exporter": "python",
   "pygments_lexer": "ipython3",
   "version": "3.6.2"
  }
 },
 "nbformat": 4,
 "nbformat_minor": 2
}
