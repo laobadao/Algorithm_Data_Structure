{
 "cells": [
  {
   "cell_type": "markdown",
   "metadata": {},
   "source": [
    " 1. 两数之和\n",
    " \n",
    "LeetCode:https://leetcode-cn.com/problems/two-sum/description/\n",
    "\n",
    "数组：https://leetcode-cn.com/problemset/all/?topicSlugs=array\n",
    "\n",
    "https://hk029.gitbooks.io/leetbook/content/%E6%95%B0%E7%BB%84/001.Two%20Sum[E].html\n",
    "\n",
    "JackCui:https://blog.csdn.net/c406495762/article/details/79247243\n",
    "\n",
    "## 题目描述\n",
    "\n",
    "给定一个整数数组和一个目标值，找出数组中和为目标值的两个数。\n",
    "\n",
    "你可以假设每个输入只对应一种答案，且同样的元素不能被重复利用。\n",
    "\n",
    "\n",
    "**示例:**\n",
    "\n",
    "```\n",
    "给定 nums = [2, 7, 11, 15], target = 9\n",
    "\n",
    "因为 nums[0] + nums[1] = 2 + 7 = 9\n",
    "所以返回 [0, 1]\n",
    "\n",
    "```\n",
    "\n",
    "理解：\n",
    "\n",
    "1. nums 这个数组要大于等于 2 个元素，不能小于等于 1 \n",
    "2. nums 数组内的数，要小于 target 才有可能加上另一个数 等于 target\n",
    "3. 返回的是 数组中元素所在的 下标/索引\n",
    "4. 上面的想法很傻\n",
    "5. 聪明的想法，以 target 为中心，做减法，然后再看在不在 数组中，借助字典来记录\n",
    "\n",
    "\n",
    "思路：\n"
   ]
  },
  {
   "cell_type": "code",
   "execution_count": 6,
   "metadata": {},
   "outputs": [],
   "source": [
    "class Solution(object):\n",
    "    def twoSum(self, nums, target):\n",
    "        \"\"\"\n",
    "        :type nums: List[int]\n",
    "        :type target: int\n",
    "        :rtype: List[int]\n",
    "        \"\"\"\n",
    "\n",
    "        # 1. 先判断 nums 是否是 2 个数，<= 1 则返回 False\n",
    "        if len(nums) <= 1:\n",
    "            print(\"数组长度错误\")\n",
    "            return False\n",
    "        # 2. 创建空字典\n",
    "        result_dic = {}\n",
    "        \n",
    "        # 3. for 循环遍历 nums 的长度\n",
    "        for i in range(len(nums)):\n",
    "            print(i)\n",
    "            # 4. 如果 nums 中 第 i 个元素是 字典中的 key\n",
    "            # 那么返回 一个list ，list 中包含 字典中 key 的值，以及对应的下标\n",
    "            if nums[i] in result_dic:\n",
    "                print(result_dic)\n",
    "                return [result_dic[nums[i]], i]\n",
    "            # 5. 如果 nums 中 第 i 个元素不在字典中，\n",
    "            # 那么 在字典中添加 以 target 减去 nums[i] 元素的值 作为 key ，\n",
    "            # value 为 索引值\n",
    "            else:\n",
    "                 result_dic[target - nums[i]] = i\n",
    "                   "
   ]
  },
  {
   "cell_type": "code",
   "execution_count": 7,
   "metadata": {},
   "outputs": [
    {
     "name": "stdout",
     "output_type": "stream",
     "text": [
      "0\n",
      "1\n",
      "2\n",
      "3\n",
      "4\n",
      "5\n",
      "6\n",
      "7\n",
      "{3: 0, 9: 2, 7: 3, 4: 4, -2: 5, -6: 6}\n",
      "[3, 7]\n"
     ]
    }
   ],
   "source": [
    "s = Solution()\n",
    "print(s.twoSum([6,0,0,2, 5, 11, 15,7], 9))"
   ]
  },
  {
   "cell_type": "code",
   "execution_count": null,
   "metadata": {},
   "outputs": [],
   "source": []
  }
 ],
 "metadata": {
  "kernelspec": {
   "display_name": "Python 3",
   "language": "python",
   "name": "python3"
  },
  "language_info": {
   "codemirror_mode": {
    "name": "ipython",
    "version": 3
   },
   "file_extension": ".py",
   "mimetype": "text/x-python",
   "name": "python",
   "nbconvert_exporter": "python",
   "pygments_lexer": "ipython3",
   "version": "3.6.2"
  }
 },
 "nbformat": 4,
 "nbformat_minor": 2
}
